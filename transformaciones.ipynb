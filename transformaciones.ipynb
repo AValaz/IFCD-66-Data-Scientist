{
 "cells": [
  {
   "cell_type": "code",
   "execution_count": 20,
   "id": "b52df83c",
   "metadata": {},
   "outputs": [],
   "source": [
    "import pandas as pd\n",
    "import seaborn as sns\n",
    "import matplotlib.pyplot as plt\n",
    "from scipy import stats\n",
    "import numpy as np\n",
    "from sklearn.preprocessing import MinMaxScaler , StandardScaler, Normalizer , Binarizer, PowerTransformer\n",
    "from statsmodels.stats.proportion import proportions_ztest\n",
    "df = pd.read_csv(\"data_models/pima-indians-diabetes.csv\",names = ['preg', 'plas', 'pres', 'skin', 'test', 'mass', 'pedi', 'age', 'class'])"
   ]
  },
  {
   "cell_type": "markdown",
   "id": "2dab5d72",
   "metadata": {},
   "source": [
    "## Tranformaciones"
   ]
  },
  {
   "cell_type": "code",
   "execution_count": 2,
   "id": "32777fe7",
   "metadata": {},
   "outputs": [],
   "source": [
    "X , Y = df.values[:,0:8] , df.values[:,8]"
   ]
  },
  {
   "cell_type": "code",
   "execution_count": 3,
   "id": "7f7f0ba7",
   "metadata": {},
   "outputs": [],
   "source": [
    "scaler_minMax = MinMaxScaler(feature_range=(0,1))\n",
    "resclaedX_minMax = scaler_minMax.fit_transform(X)"
   ]
  },
  {
   "cell_type": "code",
   "execution_count": 4,
   "id": "a3e4e6cf",
   "metadata": {},
   "outputs": [],
   "source": [
    "df_transform_minMax = pd.DataFrame(data = np.column_stack((np.asarray(resclaedX_minMax),np.asarray(Y))),columns = ['preg', 'plas', 'pres', 'skin', 'test', 'mass', 'pedi', 'age', 'class'])"
   ]
  },
  {
   "cell_type": "code",
   "execution_count": 5,
   "id": "60d61ab2",
   "metadata": {},
   "outputs": [],
   "source": [
    "scaler_standar = StandardScaler()\n",
    "resclaedX_standar = scaler_standar.fit_transform(X)"
   ]
  },
  {
   "cell_type": "code",
   "execution_count": 6,
   "id": "53cf14e0",
   "metadata": {},
   "outputs": [],
   "source": [
    "df_transform_standar = pd.DataFrame(data = np.column_stack((np.asarray(resclaedX_standar),np.asarray(Y))),columns = ['preg', 'plas', 'pres', 'skin', 'test', 'mass', 'pedi', 'age', 'class'])"
   ]
  },
  {
   "cell_type": "code",
   "execution_count": 7,
   "id": "84e33c57",
   "metadata": {
    "scrolled": true
   },
   "outputs": [],
   "source": [
    "scaler_normal = Normalizer()\n",
    "resclaedX_normal = scaler_normal.fit_transform(X)"
   ]
  },
  {
   "cell_type": "code",
   "execution_count": 8,
   "id": "e9512629",
   "metadata": {},
   "outputs": [],
   "source": [
    "df_transform_normal = pd.DataFrame(data = resclaedX_normal,columns = ['preg', 'plas', 'pres', 'skin', 'test', 'mass', 'pedi', 'age'])"
   ]
  },
  {
   "cell_type": "code",
   "execution_count": 9,
   "id": "a26fcb51",
   "metadata": {},
   "outputs": [],
   "source": [
    "scaler_binarizado = Binarizer(threshold = 0.0)\n",
    "resclaedX_binarizado = scaler_binarizado.fit_transform(X)"
   ]
  },
  {
   "cell_type": "code",
   "execution_count": 10,
   "id": "e06831a6",
   "metadata": {},
   "outputs": [],
   "source": [
    "df_transform_binarizado = pd.DataFrame(data = resclaedX_binarizado,columns = ['preg', 'plas', 'pres', 'skin', 'test', 'mass', 'pedi', 'age'])"
   ]
  },
  {
   "cell_type": "code",
   "execution_count": 19,
   "id": "f31d2dd6",
   "metadata": {},
   "outputs": [],
   "source": [
    "features = df[['pedi', 'age']]\n",
    "scaler_YeoJohnson = PowerTransformer(method = 'yeo-johnson', standardize = True)\n",
    "feature_YeoJohnson = scaler_YeoJohnson.fit(features) \n",
    "cal_lamdas_yo = feature_YeoJohnson.lambdas_\n",
    "feature_YeoJohnson = scaler_YeoJohnson.transform(features) \n",
    "df_features_yeoJohnson = pd.DataFrame(data= feature_YeoJohnson, columns = ['pedi', 'age'])"
   ]
  },
  {
   "cell_type": "markdown",
   "id": "d9c6b13a",
   "metadata": {},
   "source": [
    "## Metricas"
   ]
  },
  {
   "cell_type": "markdown",
   "id": "e0320715",
   "metadata": {},
   "source": [
    "1. clasificación \n",
    "- Accuracy \n",
    "- Kappa \n",
    "- AUC\n",
    "- Matrices de confusion\n",
    "\n",
    "2. Regresion\n",
    "- Error absoluto medio (MAE)\n",
    "- Error cuadratico medio (MSE)\n",
    "- R2"
   ]
  }
 ],
 "metadata": {
  "kernelspec": {
   "display_name": "Python 3 (ipykernel)",
   "language": "python",
   "name": "python3"
  },
  "language_info": {
   "codemirror_mode": {
    "name": "ipython",
    "version": 3
   },
   "file_extension": ".py",
   "mimetype": "text/x-python",
   "name": "python",
   "nbconvert_exporter": "python",
   "pygments_lexer": "ipython3",
   "version": "3.10.4"
  }
 },
 "nbformat": 4,
 "nbformat_minor": 5
}
