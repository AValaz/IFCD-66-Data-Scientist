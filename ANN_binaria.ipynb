{
 "cells": [
  {
   "cell_type": "code",
   "execution_count": 1,
   "id": "73cf6e87",
   "metadata": {},
   "outputs": [],
   "source": [
    "import pandas as pd\n",
    "import numpy as np\n",
    "import matplotlib.pyplot as plt\n",
    "import seaborn as sns"
   ]
  },
  {
   "cell_type": "code",
   "execution_count": 2,
   "id": "a9d0bce3",
   "metadata": {},
   "outputs": [],
   "source": [
    "df = pd.read_csv('./data_models/info_prestamos.csv',encoding = \"ISO-8859-1\",delimiter=',')"
   ]
  },
  {
   "cell_type": "code",
   "execution_count": 3,
   "id": "514d829e",
   "metadata": {},
   "outputs": [
    {
     "data": {
      "text/html": [
       "<div>\n",
       "<style scoped>\n",
       "    .dataframe tbody tr th:only-of-type {\n",
       "        vertical-align: middle;\n",
       "    }\n",
       "\n",
       "    .dataframe tbody tr th {\n",
       "        vertical-align: top;\n",
       "    }\n",
       "\n",
       "    .dataframe thead th {\n",
       "        text-align: right;\n",
       "    }\n",
       "</style>\n",
       "<table border=\"1\" class=\"dataframe\">\n",
       "  <thead>\n",
       "    <tr style=\"text-align: right;\">\n",
       "      <th></th>\n",
       "      <th>Loan_ID</th>\n",
       "      <th>Loan_Amount_Requested</th>\n",
       "      <th>Length_Employed</th>\n",
       "      <th>Home_Owner</th>\n",
       "      <th>Annual_Income</th>\n",
       "      <th>Income_Verified</th>\n",
       "      <th>Purpose_Of_Loan</th>\n",
       "      <th>Debt_To_Income</th>\n",
       "      <th>Inquiries_Last_6Mo</th>\n",
       "      <th>Months_Since_Deliquency</th>\n",
       "      <th>Number_Open_Accounts</th>\n",
       "      <th>Total_Accounts</th>\n",
       "      <th>Gender</th>\n",
       "      <th>Interest_Rate</th>\n",
       "    </tr>\n",
       "  </thead>\n",
       "  <tbody>\n",
       "    <tr>\n",
       "      <th>0</th>\n",
       "      <td>10000001</td>\n",
       "      <td>7,000</td>\n",
       "      <td>&lt; 1 year</td>\n",
       "      <td>Rent</td>\n",
       "      <td>68000.0</td>\n",
       "      <td>not verified</td>\n",
       "      <td>car</td>\n",
       "      <td>18.37</td>\n",
       "      <td>0</td>\n",
       "      <td>NaN</td>\n",
       "      <td>9</td>\n",
       "      <td>14</td>\n",
       "      <td>Female</td>\n",
       "      <td>1</td>\n",
       "    </tr>\n",
       "    <tr>\n",
       "      <th>1</th>\n",
       "      <td>10000002</td>\n",
       "      <td>30,000</td>\n",
       "      <td>4 years</td>\n",
       "      <td>Mortgage</td>\n",
       "      <td>NaN</td>\n",
       "      <td>VERIFIED - income</td>\n",
       "      <td>debt_consolidation</td>\n",
       "      <td>14.93</td>\n",
       "      <td>0</td>\n",
       "      <td>17.0</td>\n",
       "      <td>12</td>\n",
       "      <td>24</td>\n",
       "      <td>Female</td>\n",
       "      <td>3</td>\n",
       "    </tr>\n",
       "    <tr>\n",
       "      <th>2</th>\n",
       "      <td>10000003</td>\n",
       "      <td>24,725</td>\n",
       "      <td>7 years</td>\n",
       "      <td>Mortgage</td>\n",
       "      <td>75566.4</td>\n",
       "      <td>VERIFIED - income source</td>\n",
       "      <td>debt_consolidation</td>\n",
       "      <td>15.88</td>\n",
       "      <td>0</td>\n",
       "      <td>NaN</td>\n",
       "      <td>12</td>\n",
       "      <td>16</td>\n",
       "      <td>Male</td>\n",
       "      <td>3</td>\n",
       "    </tr>\n",
       "    <tr>\n",
       "      <th>3</th>\n",
       "      <td>10000004</td>\n",
       "      <td>16,000</td>\n",
       "      <td>&lt; 1 year</td>\n",
       "      <td>NaN</td>\n",
       "      <td>56160.0</td>\n",
       "      <td>VERIFIED - income source</td>\n",
       "      <td>debt_consolidation</td>\n",
       "      <td>14.34</td>\n",
       "      <td>3</td>\n",
       "      <td>NaN</td>\n",
       "      <td>16</td>\n",
       "      <td>22</td>\n",
       "      <td>Male</td>\n",
       "      <td>3</td>\n",
       "    </tr>\n",
       "    <tr>\n",
       "      <th>4</th>\n",
       "      <td>10000005</td>\n",
       "      <td>17,000</td>\n",
       "      <td>8 years</td>\n",
       "      <td>Own</td>\n",
       "      <td>96000.0</td>\n",
       "      <td>VERIFIED - income source</td>\n",
       "      <td>debt_consolidation</td>\n",
       "      <td>22.17</td>\n",
       "      <td>1</td>\n",
       "      <td>NaN</td>\n",
       "      <td>19</td>\n",
       "      <td>30</td>\n",
       "      <td>Female</td>\n",
       "      <td>1</td>\n",
       "    </tr>\n",
       "  </tbody>\n",
       "</table>\n",
       "</div>"
      ],
      "text/plain": [
       "    Loan_ID Loan_Amount_Requested Length_Employed Home_Owner  Annual_Income   \n",
       "0  10000001                 7,000        < 1 year       Rent        68000.0  \\\n",
       "1  10000002                30,000         4 years   Mortgage            NaN   \n",
       "2  10000003                24,725         7 years   Mortgage        75566.4   \n",
       "3  10000004                16,000        < 1 year        NaN        56160.0   \n",
       "4  10000005                17,000         8 years        Own        96000.0   \n",
       "\n",
       "            Income_Verified     Purpose_Of_Loan  Debt_To_Income   \n",
       "0              not verified                 car           18.37  \\\n",
       "1         VERIFIED - income  debt_consolidation           14.93   \n",
       "2  VERIFIED - income source  debt_consolidation           15.88   \n",
       "3  VERIFIED - income source  debt_consolidation           14.34   \n",
       "4  VERIFIED - income source  debt_consolidation           22.17   \n",
       "\n",
       "   Inquiries_Last_6Mo  Months_Since_Deliquency  Number_Open_Accounts   \n",
       "0                   0                      NaN                     9  \\\n",
       "1                   0                     17.0                    12   \n",
       "2                   0                      NaN                    12   \n",
       "3                   3                      NaN                    16   \n",
       "4                   1                      NaN                    19   \n",
       "\n",
       "   Total_Accounts  Gender  Interest_Rate  \n",
       "0              14  Female              1  \n",
       "1              24  Female              3  \n",
       "2              16    Male              3  \n",
       "3              22    Male              3  \n",
       "4              30  Female              1  "
      ]
     },
     "execution_count": 3,
     "metadata": {},
     "output_type": "execute_result"
    }
   ],
   "source": [
    "df.head()"
   ]
  },
  {
   "cell_type": "code",
   "execution_count": 4,
   "id": "75979131",
   "metadata": {},
   "outputs": [
    {
     "data": {
      "text/plain": [
       "Loan_ID                        0\n",
       "Loan_Amount_Requested          0\n",
       "Length_Employed             7371\n",
       "Home_Owner                 25359\n",
       "Annual_Income              25102\n",
       "Income_Verified                0\n",
       "Purpose_Of_Loan                0\n",
       "Debt_To_Income                 0\n",
       "Inquiries_Last_6Mo             0\n",
       "Months_Since_Deliquency    88379\n",
       "Number_Open_Accounts           0\n",
       "Total_Accounts                 0\n",
       "Gender                         0\n",
       "Interest_Rate                  0\n",
       "dtype: int64"
      ]
     },
     "execution_count": 4,
     "metadata": {},
     "output_type": "execute_result"
    }
   ],
   "source": [
    "df.isnull().sum()"
   ]
  },
  {
   "cell_type": "code",
   "execution_count": 5,
   "id": "6071d79d",
   "metadata": {},
   "outputs": [
    {
     "data": {
      "text/plain": [
       "(164309, 14)"
      ]
     },
     "execution_count": 5,
     "metadata": {},
     "output_type": "execute_result"
    }
   ],
   "source": [
    "df.shape"
   ]
  },
  {
   "cell_type": "code",
   "execution_count": 6,
   "id": "fceb4896",
   "metadata": {},
   "outputs": [],
   "source": [
    "df_var = df.isnull().sum()\n",
    "por = 20/100\n",
    "df_var = df_var[df_var < por * len(df)]\n",
    "list_var_OK = df_var.index\n",
    "df = df[list_var_OK]\n"
   ]
  },
  {
   "cell_type": "code",
   "execution_count": 7,
   "id": "56509b3d",
   "metadata": {},
   "outputs": [
    {
     "data": {
      "text/plain": [
       "Loan_ID                      0\n",
       "Loan_Amount_Requested        0\n",
       "Length_Employed           7371\n",
       "Home_Owner               25359\n",
       "Annual_Income            25102\n",
       "Income_Verified              0\n",
       "Purpose_Of_Loan              0\n",
       "Debt_To_Income               0\n",
       "Inquiries_Last_6Mo           0\n",
       "Number_Open_Accounts         0\n",
       "Total_Accounts               0\n",
       "Gender                       0\n",
       "Interest_Rate                0\n",
       "dtype: int64"
      ]
     },
     "execution_count": 7,
     "metadata": {},
     "output_type": "execute_result"
    }
   ],
   "source": [
    "df.isnull().sum()"
   ]
  },
  {
   "cell_type": "code",
   "execution_count": 8,
   "id": "f3ab3448",
   "metadata": {},
   "outputs": [
    {
     "name": "stdout",
     "output_type": "stream",
     "text": [
      "<class 'pandas.core.frame.DataFrame'>\n",
      "RangeIndex: 164309 entries, 0 to 164308\n",
      "Data columns (total 13 columns):\n",
      " #   Column                 Non-Null Count   Dtype  \n",
      "---  ------                 --------------   -----  \n",
      " 0   Loan_ID                164309 non-null  int64  \n",
      " 1   Loan_Amount_Requested  164309 non-null  object \n",
      " 2   Length_Employed        156938 non-null  object \n",
      " 3   Home_Owner             138950 non-null  object \n",
      " 4   Annual_Income          139207 non-null  float64\n",
      " 5   Income_Verified        164309 non-null  object \n",
      " 6   Purpose_Of_Loan        164309 non-null  object \n",
      " 7   Debt_To_Income         164309 non-null  float64\n",
      " 8   Inquiries_Last_6Mo     164309 non-null  int64  \n",
      " 9   Number_Open_Accounts   164309 non-null  int64  \n",
      " 10  Total_Accounts         164309 non-null  int64  \n",
      " 11  Gender                 164309 non-null  object \n",
      " 12  Interest_Rate          164309 non-null  int64  \n",
      "dtypes: float64(2), int64(5), object(6)\n",
      "memory usage: 16.3+ MB\n"
     ]
    }
   ],
   "source": [
    "df.info()"
   ]
  },
  {
   "cell_type": "code",
   "execution_count": 9,
   "id": "5422ba2d",
   "metadata": {},
   "outputs": [
    {
     "data": {
      "text/plain": [
       "array(['< 1 year', '4 years', '7 years', '8 years', '2 years',\n",
       "       '10+ years', '1 year', nan, '6 years', '9 years', '3 years',\n",
       "       '5 years'], dtype=object)"
      ]
     },
     "execution_count": 9,
     "metadata": {},
     "output_type": "execute_result"
    }
   ],
   "source": [
    "df['Length_Employed'].unique()"
   ]
  },
  {
   "cell_type": "code",
   "execution_count": 10,
   "id": "15311b42",
   "metadata": {},
   "outputs": [],
   "source": [
    "df['Length_Employed'] = df['Length_Employed'].str.replace('< 1 year','0 year', regex=False)"
   ]
  },
  {
   "cell_type": "code",
   "execution_count": 11,
   "id": "bfe74f69",
   "metadata": {},
   "outputs": [
    {
     "data": {
      "text/plain": [
       "array(['0 year', '4 years', '7 years', '8 years', '2 years', '10+ years',\n",
       "       '1 year', nan, '6 years', '9 years', '3 years', '5 years'],\n",
       "      dtype=object)"
      ]
     },
     "execution_count": 11,
     "metadata": {},
     "output_type": "execute_result"
    }
   ],
   "source": [
    "df['Length_Employed'].unique()"
   ]
  },
  {
   "cell_type": "code",
   "execution_count": 12,
   "id": "86ab0fd7",
   "metadata": {},
   "outputs": [],
   "source": [
    "df['Length_Employed'] = df['Length_Employed'].str.extract('(\\d+)', expand = True)"
   ]
  },
  {
   "cell_type": "code",
   "execution_count": 13,
   "id": "581b56d7",
   "metadata": {},
   "outputs": [
    {
     "data": {
      "text/plain": [
       "array(['0', '4', '7', '8', '2', '10', '1', nan, '6', '9', '3', '5'],\n",
       "      dtype=object)"
      ]
     },
     "execution_count": 13,
     "metadata": {},
     "output_type": "execute_result"
    }
   ],
   "source": [
    "df['Length_Employed'].unique()"
   ]
  },
  {
   "cell_type": "code",
   "execution_count": 14,
   "id": "5e1aa3fc",
   "metadata": {},
   "outputs": [],
   "source": [
    "df.loc[:,'Length_Employed'] = pd.to_numeric(df['Length_Employed'])"
   ]
  },
  {
   "cell_type": "code",
   "execution_count": 15,
   "id": "5f3779f6",
   "metadata": {},
   "outputs": [
    {
     "data": {
      "text/plain": [
       "array([0.0, 4.0, 7.0, 8.0, 2.0, 10.0, 1.0, nan, 6.0, 9.0, 3.0, 5.0],\n",
       "      dtype=object)"
      ]
     },
     "execution_count": 15,
     "metadata": {},
     "output_type": "execute_result"
    }
   ],
   "source": [
    "df['Length_Employed'].unique()"
   ]
  },
  {
   "cell_type": "code",
   "execution_count": 16,
   "id": "7ab4bc8f",
   "metadata": {},
   "outputs": [],
   "source": [
    "df['Length_Employed'] = df['Length_Employed'].astype(float)"
   ]
  },
  {
   "cell_type": "code",
   "execution_count": 17,
   "id": "2fa436ad",
   "metadata": {},
   "outputs": [
    {
     "data": {
      "text/plain": [
       "Loan_ID                    int64\n",
       "Loan_Amount_Requested     object\n",
       "Length_Employed          float64\n",
       "Home_Owner                object\n",
       "Annual_Income            float64\n",
       "Income_Verified           object\n",
       "Purpose_Of_Loan           object\n",
       "Debt_To_Income           float64\n",
       "Inquiries_Last_6Mo         int64\n",
       "Number_Open_Accounts       int64\n",
       "Total_Accounts             int64\n",
       "Gender                    object\n",
       "Interest_Rate              int64\n",
       "dtype: object"
      ]
     },
     "execution_count": 17,
     "metadata": {},
     "output_type": "execute_result"
    }
   ],
   "source": [
    "df.dtypes"
   ]
  },
  {
   "cell_type": "code",
   "execution_count": 18,
   "id": "1cbf2c10",
   "metadata": {},
   "outputs": [
    {
     "data": {
      "text/html": [
       "<div>\n",
       "<style scoped>\n",
       "    .dataframe tbody tr th:only-of-type {\n",
       "        vertical-align: middle;\n",
       "    }\n",
       "\n",
       "    .dataframe tbody tr th {\n",
       "        vertical-align: top;\n",
       "    }\n",
       "\n",
       "    .dataframe thead th {\n",
       "        text-align: right;\n",
       "    }\n",
       "</style>\n",
       "<table border=\"1\" class=\"dataframe\">\n",
       "  <thead>\n",
       "    <tr style=\"text-align: right;\">\n",
       "      <th></th>\n",
       "      <th>Loan_ID</th>\n",
       "      <th>Loan_Amount_Requested</th>\n",
       "      <th>Length_Employed</th>\n",
       "      <th>Home_Owner</th>\n",
       "      <th>Annual_Income</th>\n",
       "      <th>Income_Verified</th>\n",
       "      <th>Purpose_Of_Loan</th>\n",
       "      <th>Debt_To_Income</th>\n",
       "      <th>Inquiries_Last_6Mo</th>\n",
       "      <th>Number_Open_Accounts</th>\n",
       "      <th>Total_Accounts</th>\n",
       "      <th>Gender</th>\n",
       "      <th>Interest_Rate</th>\n",
       "    </tr>\n",
       "  </thead>\n",
       "  <tbody>\n",
       "    <tr>\n",
       "      <th>0</th>\n",
       "      <td>10000001</td>\n",
       "      <td>7,000</td>\n",
       "      <td>0.0</td>\n",
       "      <td>Rent</td>\n",
       "      <td>68000.0</td>\n",
       "      <td>not verified</td>\n",
       "      <td>car</td>\n",
       "      <td>18.37</td>\n",
       "      <td>0</td>\n",
       "      <td>9</td>\n",
       "      <td>14</td>\n",
       "      <td>Female</td>\n",
       "      <td>1</td>\n",
       "    </tr>\n",
       "    <tr>\n",
       "      <th>1</th>\n",
       "      <td>10000002</td>\n",
       "      <td>30,000</td>\n",
       "      <td>4.0</td>\n",
       "      <td>Mortgage</td>\n",
       "      <td>NaN</td>\n",
       "      <td>VERIFIED - income</td>\n",
       "      <td>debt_consolidation</td>\n",
       "      <td>14.93</td>\n",
       "      <td>0</td>\n",
       "      <td>12</td>\n",
       "      <td>24</td>\n",
       "      <td>Female</td>\n",
       "      <td>3</td>\n",
       "    </tr>\n",
       "    <tr>\n",
       "      <th>2</th>\n",
       "      <td>10000003</td>\n",
       "      <td>24,725</td>\n",
       "      <td>7.0</td>\n",
       "      <td>Mortgage</td>\n",
       "      <td>75566.4</td>\n",
       "      <td>VERIFIED - income source</td>\n",
       "      <td>debt_consolidation</td>\n",
       "      <td>15.88</td>\n",
       "      <td>0</td>\n",
       "      <td>12</td>\n",
       "      <td>16</td>\n",
       "      <td>Male</td>\n",
       "      <td>3</td>\n",
       "    </tr>\n",
       "    <tr>\n",
       "      <th>3</th>\n",
       "      <td>10000004</td>\n",
       "      <td>16,000</td>\n",
       "      <td>0.0</td>\n",
       "      <td>NaN</td>\n",
       "      <td>56160.0</td>\n",
       "      <td>VERIFIED - income source</td>\n",
       "      <td>debt_consolidation</td>\n",
       "      <td>14.34</td>\n",
       "      <td>3</td>\n",
       "      <td>16</td>\n",
       "      <td>22</td>\n",
       "      <td>Male</td>\n",
       "      <td>3</td>\n",
       "    </tr>\n",
       "    <tr>\n",
       "      <th>4</th>\n",
       "      <td>10000005</td>\n",
       "      <td>17,000</td>\n",
       "      <td>8.0</td>\n",
       "      <td>Own</td>\n",
       "      <td>96000.0</td>\n",
       "      <td>VERIFIED - income source</td>\n",
       "      <td>debt_consolidation</td>\n",
       "      <td>22.17</td>\n",
       "      <td>1</td>\n",
       "      <td>19</td>\n",
       "      <td>30</td>\n",
       "      <td>Female</td>\n",
       "      <td>1</td>\n",
       "    </tr>\n",
       "  </tbody>\n",
       "</table>\n",
       "</div>"
      ],
      "text/plain": [
       "    Loan_ID Loan_Amount_Requested  Length_Employed Home_Owner  Annual_Income   \n",
       "0  10000001                 7,000              0.0       Rent        68000.0  \\\n",
       "1  10000002                30,000              4.0   Mortgage            NaN   \n",
       "2  10000003                24,725              7.0   Mortgage        75566.4   \n",
       "3  10000004                16,000              0.0        NaN        56160.0   \n",
       "4  10000005                17,000              8.0        Own        96000.0   \n",
       "\n",
       "            Income_Verified     Purpose_Of_Loan  Debt_To_Income   \n",
       "0              not verified                 car           18.37  \\\n",
       "1         VERIFIED - income  debt_consolidation           14.93   \n",
       "2  VERIFIED - income source  debt_consolidation           15.88   \n",
       "3  VERIFIED - income source  debt_consolidation           14.34   \n",
       "4  VERIFIED - income source  debt_consolidation           22.17   \n",
       "\n",
       "   Inquiries_Last_6Mo  Number_Open_Accounts  Total_Accounts  Gender   \n",
       "0                   0                     9              14  Female  \\\n",
       "1                   0                    12              24  Female   \n",
       "2                   0                    12              16    Male   \n",
       "3                   3                    16              22    Male   \n",
       "4                   1                    19              30  Female   \n",
       "\n",
       "   Interest_Rate  \n",
       "0              1  \n",
       "1              3  \n",
       "2              3  \n",
       "3              3  \n",
       "4              1  "
      ]
     },
     "execution_count": 18,
     "metadata": {},
     "output_type": "execute_result"
    }
   ],
   "source": [
    "df.head()"
   ]
  },
  {
   "cell_type": "code",
   "execution_count": 19,
   "id": "0c3688e1",
   "metadata": {},
   "outputs": [],
   "source": [
    "df['Loan_Amount_Requested'] = df['Loan_Amount_Requested'].str.replace(\",\",\".\").astype(float)\n"
   ]
  },
  {
   "cell_type": "code",
   "execution_count": 20,
   "id": "82f71bcd",
   "metadata": {},
   "outputs": [
    {
     "data": {
      "text/plain": [
       "Loan_ID                    int64\n",
       "Loan_Amount_Requested    float64\n",
       "Length_Employed          float64\n",
       "Home_Owner                object\n",
       "Annual_Income            float64\n",
       "Income_Verified           object\n",
       "Purpose_Of_Loan           object\n",
       "Debt_To_Income           float64\n",
       "Inquiries_Last_6Mo         int64\n",
       "Number_Open_Accounts       int64\n",
       "Total_Accounts             int64\n",
       "Gender                    object\n",
       "Interest_Rate              int64\n",
       "dtype: object"
      ]
     },
     "execution_count": 20,
     "metadata": {},
     "output_type": "execute_result"
    }
   ],
   "source": [
    "df.dtypes"
   ]
  },
  {
   "cell_type": "code",
   "execution_count": 21,
   "id": "478f5a2a",
   "metadata": {},
   "outputs": [
    {
     "data": {
      "text/plain": [
       "Inquiries_Last_6Mo      -0.006522\n",
       "Interest_Rate            0.030404\n",
       "Number_Open_Accounts     0.037321\n",
       "Debt_To_Income           0.049020\n",
       "Annual_Income            0.069505\n",
       "Loan_Amount_Requested    0.097136\n",
       "Total_Accounts           0.111460\n",
       "Length_Employed          1.000000\n",
       "Name: Length_Employed, dtype: float64"
      ]
     },
     "execution_count": 21,
     "metadata": {},
     "output_type": "execute_result"
    }
   ],
   "source": [
    "df.loc[:,['Loan_Amount_Requested','Length_Employed','Annual_Income','Debt_To_Income','Inquiries_Last_6Mo','Number_Open_Accounts','Total_Accounts','Interest_Rate']].corr()['Length_Employed'].sort_values()"
   ]
  },
  {
   "cell_type": "code",
   "execution_count": 22,
   "id": "fd1c18a9",
   "metadata": {},
   "outputs": [],
   "source": [
    "df['Length_Employed'] = df['Length_Employed'].astype(float)\n",
    "df['Total_Accounts'] = df['Total_Accounts'].astype(float)"
   ]
  },
  {
   "cell_type": "code",
   "execution_count": 23,
   "id": "f30d49f7",
   "metadata": {
    "scrolled": false
   },
   "outputs": [
    {
     "data": {
      "text/html": [
       "<div>\n",
       "<style scoped>\n",
       "    .dataframe tbody tr th:only-of-type {\n",
       "        vertical-align: middle;\n",
       "    }\n",
       "\n",
       "    .dataframe tbody tr th {\n",
       "        vertical-align: top;\n",
       "    }\n",
       "\n",
       "    .dataframe thead th {\n",
       "        text-align: right;\n",
       "    }\n",
       "</style>\n",
       "<table border=\"1\" class=\"dataframe\">\n",
       "  <thead>\n",
       "    <tr style=\"text-align: right;\">\n",
       "      <th></th>\n",
       "      <th>Total_Accounts</th>\n",
       "      <th>Length_Employed</th>\n",
       "    </tr>\n",
       "  </thead>\n",
       "  <tbody>\n",
       "    <tr>\n",
       "      <th>0</th>\n",
       "      <td>14.0</td>\n",
       "      <td>0.0</td>\n",
       "    </tr>\n",
       "    <tr>\n",
       "      <th>1</th>\n",
       "      <td>24.0</td>\n",
       "      <td>4.0</td>\n",
       "    </tr>\n",
       "    <tr>\n",
       "      <th>2</th>\n",
       "      <td>16.0</td>\n",
       "      <td>7.0</td>\n",
       "    </tr>\n",
       "    <tr>\n",
       "      <th>3</th>\n",
       "      <td>22.0</td>\n",
       "      <td>0.0</td>\n",
       "    </tr>\n",
       "    <tr>\n",
       "      <th>4</th>\n",
       "      <td>30.0</td>\n",
       "      <td>8.0</td>\n",
       "    </tr>\n",
       "    <tr>\n",
       "      <th>...</th>\n",
       "      <td>...</td>\n",
       "      <td>...</td>\n",
       "    </tr>\n",
       "    <tr>\n",
       "      <th>164304</th>\n",
       "      <td>16.0</td>\n",
       "      <td>10.0</td>\n",
       "    </tr>\n",
       "    <tr>\n",
       "      <th>164305</th>\n",
       "      <td>30.0</td>\n",
       "      <td>8.0</td>\n",
       "    </tr>\n",
       "    <tr>\n",
       "      <th>164306</th>\n",
       "      <td>30.0</td>\n",
       "      <td>10.0</td>\n",
       "    </tr>\n",
       "    <tr>\n",
       "      <th>164307</th>\n",
       "      <td>62.0</td>\n",
       "      <td>4.0</td>\n",
       "    </tr>\n",
       "    <tr>\n",
       "      <th>164308</th>\n",
       "      <td>9.0</td>\n",
       "      <td>10.0</td>\n",
       "    </tr>\n",
       "  </tbody>\n",
       "</table>\n",
       "<p>156938 rows × 2 columns</p>\n",
       "</div>"
      ],
      "text/plain": [
       "        Total_Accounts  Length_Employed\n",
       "0                 14.0              0.0\n",
       "1                 24.0              4.0\n",
       "2                 16.0              7.0\n",
       "3                 22.0              0.0\n",
       "4                 30.0              8.0\n",
       "...                ...              ...\n",
       "164304            16.0             10.0\n",
       "164305            30.0              8.0\n",
       "164306            30.0             10.0\n",
       "164307            62.0              4.0\n",
       "164308             9.0             10.0\n",
       "\n",
       "[156938 rows x 2 columns]"
      ]
     },
     "execution_count": 23,
     "metadata": {},
     "output_type": "execute_result"
    }
   ],
   "source": [
    "DF=df.loc[:,['Total_Accounts','Length_Employed']].dropna()\n",
    "DF"
   ]
  },
  {
   "cell_type": "code",
   "execution_count": 24,
   "id": "12c9e1e8",
   "metadata": {},
   "outputs": [
    {
     "data": {
      "text/plain": [
       "Total_Accounts\n",
       "2.0       2.500000\n",
       "3.0       2.709924\n",
       "4.0       3.662551\n",
       "5.0       4.180240\n",
       "6.0       4.260575\n",
       "           ...    \n",
       "99.0     10.000000\n",
       "102.0     7.000000\n",
       "105.0    10.000000\n",
       "116.0    10.000000\n",
       "156.0    10.000000\n",
       "Name: Length_Employed, Length: 100, dtype: float64"
      ]
     },
     "execution_count": 24,
     "metadata": {},
     "output_type": "execute_result"
    }
   ],
   "source": [
    "av = DF.groupby('Total_Accounts').mean()['Length_Employed']\n",
    "av"
   ]
  },
  {
   "cell_type": "code",
   "execution_count": 25,
   "id": "83a7ed78",
   "metadata": {},
   "outputs": [],
   "source": [
    "def completar_len_emp(x,y):\n",
    "    if np.isnan(y):\n",
    "        return av[x]\n",
    "    else: \n",
    "        return y   "
   ]
  },
  {
   "cell_type": "code",
   "execution_count": 26,
   "id": "16d7d7ea",
   "metadata": {},
   "outputs": [],
   "source": [
    "df['Length_Employed'] = df.apply(lambda x: completar_len_emp(x['Total_Accounts'], x['Length_Employed']), axis=1)"
   ]
  },
  {
   "cell_type": "code",
   "execution_count": 27,
   "id": "496f960f",
   "metadata": {},
   "outputs": [
    {
     "data": {
      "text/plain": [
       "Loan_ID                      0\n",
       "Loan_Amount_Requested        0\n",
       "Length_Employed              0\n",
       "Home_Owner               25359\n",
       "Annual_Income            25102\n",
       "Income_Verified              0\n",
       "Purpose_Of_Loan              0\n",
       "Debt_To_Income               0\n",
       "Inquiries_Last_6Mo           0\n",
       "Number_Open_Accounts         0\n",
       "Total_Accounts               0\n",
       "Gender                       0\n",
       "Interest_Rate                0\n",
       "dtype: int64"
      ]
     },
     "execution_count": 27,
     "metadata": {},
     "output_type": "execute_result"
    }
   ],
   "source": [
    "df.isnull().sum()"
   ]
  },
  {
   "cell_type": "code",
   "execution_count": 28,
   "id": "e94cbb78",
   "metadata": {},
   "outputs": [
    {
     "data": {
      "text/plain": [
       "Home_Owner\n",
       "Mortgage    70345\n",
       "Rent        56031\n",
       "Own         12525\n",
       "Other          49\n",
       "Name: count, dtype: int64"
      ]
     },
     "execution_count": 28,
     "metadata": {},
     "output_type": "execute_result"
    }
   ],
   "source": [
    "df['Home_Owner'].value_counts()"
   ]
  },
  {
   "cell_type": "code",
   "execution_count": 29,
   "id": "9154fd91",
   "metadata": {
    "scrolled": false
   },
   "outputs": [
    {
     "data": {
      "text/plain": [
       "Loan_ID                    int64\n",
       "Loan_Amount_Requested    float64\n",
       "Length_Employed          float64\n",
       "Home_Owner                object\n",
       "Annual_Income            float64\n",
       "Income_Verified           object\n",
       "Purpose_Of_Loan           object\n",
       "Debt_To_Income           float64\n",
       "Inquiries_Last_6Mo         int64\n",
       "Number_Open_Accounts       int64\n",
       "Total_Accounts           float64\n",
       "Gender                    object\n",
       "Interest_Rate              int64\n",
       "dtype: object"
      ]
     },
     "execution_count": 29,
     "metadata": {},
     "output_type": "execute_result"
    }
   ],
   "source": [
    "df.dtypes"
   ]
  },
  {
   "cell_type": "code",
   "execution_count": 30,
   "id": "60a6a6f6",
   "metadata": {},
   "outputs": [
    {
     "data": {
      "text/html": [
       "<div>\n",
       "<style scoped>\n",
       "    .dataframe tbody tr th:only-of-type {\n",
       "        vertical-align: middle;\n",
       "    }\n",
       "\n",
       "    .dataframe tbody tr th {\n",
       "        vertical-align: top;\n",
       "    }\n",
       "\n",
       "    .dataframe thead th {\n",
       "        text-align: right;\n",
       "    }\n",
       "</style>\n",
       "<table border=\"1\" class=\"dataframe\">\n",
       "  <thead>\n",
       "    <tr style=\"text-align: right;\">\n",
       "      <th></th>\n",
       "      <th>Loan_Amount_Requested</th>\n",
       "      <th>Length_Employed</th>\n",
       "      <th>Annual_Income</th>\n",
       "      <th>Debt_To_Income</th>\n",
       "      <th>Inquiries_Last_6Mo</th>\n",
       "      <th>Number_Open_Accounts</th>\n",
       "      <th>Total_Accounts</th>\n",
       "      <th>Interest_Rate</th>\n",
       "    </tr>\n",
       "    <tr>\n",
       "      <th>Home_Owner</th>\n",
       "      <th></th>\n",
       "      <th></th>\n",
       "      <th></th>\n",
       "      <th></th>\n",
       "      <th></th>\n",
       "      <th></th>\n",
       "      <th></th>\n",
       "      <th></th>\n",
       "    </tr>\n",
       "  </thead>\n",
       "  <tbody>\n",
       "    <tr>\n",
       "      <th>Mortgage</th>\n",
       "      <td>16.065695</td>\n",
       "      <td>6.673973</td>\n",
       "      <td>83699.371184</td>\n",
       "      <td>17.144232</td>\n",
       "      <td>0.840387</td>\n",
       "      <td>11.860672</td>\n",
       "      <td>27.669188</td>\n",
       "      <td>2.112673</td>\n",
       "    </tr>\n",
       "    <tr>\n",
       "      <th>Other</th>\n",
       "      <td>10.642857</td>\n",
       "      <td>4.818072</td>\n",
       "      <td>64540.743590</td>\n",
       "      <td>14.535306</td>\n",
       "      <td>0.938776</td>\n",
       "      <td>9.306122</td>\n",
       "      <td>23.530612</td>\n",
       "      <td>2.081633</td>\n",
       "    </tr>\n",
       "    <tr>\n",
       "      <th>Own</th>\n",
       "      <td>13.639489</td>\n",
       "      <td>6.189912</td>\n",
       "      <td>66104.826361</td>\n",
       "      <td>17.824458</td>\n",
       "      <td>0.768782</td>\n",
       "      <td>10.967186</td>\n",
       "      <td>24.343792</td>\n",
       "      <td>2.170299</td>\n",
       "    </tr>\n",
       "    <tr>\n",
       "      <th>Rent</th>\n",
       "      <td>12.479045</td>\n",
       "      <td>5.081681</td>\n",
       "      <td>62077.534637</td>\n",
       "      <td>17.124675</td>\n",
       "      <td>0.708322</td>\n",
       "      <td>10.425158</td>\n",
       "      <td>22.021060</td>\n",
       "      <td>2.213382</td>\n",
       "    </tr>\n",
       "  </tbody>\n",
       "</table>\n",
       "</div>"
      ],
      "text/plain": [
       "            Loan_Amount_Requested  Length_Employed  Annual_Income   \n",
       "Home_Owner                                                          \n",
       "Mortgage                16.065695         6.673973   83699.371184  \\\n",
       "Other                   10.642857         4.818072   64540.743590   \n",
       "Own                     13.639489         6.189912   66104.826361   \n",
       "Rent                    12.479045         5.081681   62077.534637   \n",
       "\n",
       "            Debt_To_Income  Inquiries_Last_6Mo  Number_Open_Accounts   \n",
       "Home_Owner                                                             \n",
       "Mortgage         17.144232            0.840387             11.860672  \\\n",
       "Other            14.535306            0.938776              9.306122   \n",
       "Own              17.824458            0.768782             10.967186   \n",
       "Rent             17.124675            0.708322             10.425158   \n",
       "\n",
       "            Total_Accounts  Interest_Rate  \n",
       "Home_Owner                                 \n",
       "Mortgage         27.669188       2.112673  \n",
       "Other            23.530612       2.081633  \n",
       "Own              24.343792       2.170299  \n",
       "Rent             22.021060       2.213382  "
      ]
     },
     "execution_count": 30,
     "metadata": {},
     "output_type": "execute_result"
    }
   ],
   "source": [
    "df.loc[:,['Loan_Amount_Requested', 'Length_Employed', 'Home_Owner', 'Annual_Income','Debt_To_Income', 'Inquiries_Last_6Mo', 'Number_Open_Accounts', 'Total_Accounts', 'Interest_Rate']].groupby('Home_Owner').mean()"
   ]
  },
  {
   "cell_type": "code",
   "execution_count": 31,
   "id": "d77635a6",
   "metadata": {},
   "outputs": [
    {
     "data": {
      "text/plain": [
       "<Axes: xlabel='Home_Owner'>"
      ]
     },
     "execution_count": 31,
     "metadata": {},
     "output_type": "execute_result"
    },
    {
     "data": {
      "image/png": "[encoded data removed]",
      "text/plain": [
       "<Figure size 640x480 with 1 Axes>"
      ]
     },
     "metadata": {},
     "output_type": "display_data"
    }
   ],
   "source": [
    "df.pivot_table(index = 'Home_Owner', columns ='Interest_Rate', values = 'Loan_ID', aggfunc = 'count').plot(kind='bar')"
   ]
  },
  {
   "cell_type": "code",
   "execution_count": 32,
   "id": "195c95f6",
   "metadata": {},
   "outputs": [],
   "source": [
    "def completar_home_owner(x,y):\n",
    "    if x == '':\n",
    "        if y == 3:\n",
    "            return \"Rent\"\n",
    "        else: \n",
    "            return \"Mortgage\"\n",
    "    else:\n",
    "        return x"
   ]
  },
  {
   "cell_type": "code",
   "execution_count": 33,
   "id": "a0549c66",
   "metadata": {},
   "outputs": [
    {
     "data": {
      "text/plain": [
       "0             Rent\n",
       "1         Mortgage\n",
       "2         Mortgage\n",
       "3                 \n",
       "4              Own\n",
       "            ...   \n",
       "164304        Rent\n",
       "164305         Own\n",
       "164306    Mortgage\n",
       "164307        Rent\n",
       "164308        Rent\n",
       "Name: Home_Owner, Length: 164309, dtype: object"
      ]
     },
     "execution_count": 33,
     "metadata": {},
     "output_type": "execute_result"
    }
   ],
   "source": [
    "df['Home_Owner'] = df['Home_Owner'].replace(np.nan,'', regex=False)\n",
    "df['Home_Owner']"
   ]
  },
  {
   "cell_type": "code",
   "execution_count": 34,
   "id": "a8ac85a9",
   "metadata": {},
   "outputs": [],
   "source": [
    "df['Home_Owner'] = df.apply(lambda x: completar_home_owner(x['Home_Owner'], x['Interest_Rate']), axis=1)"
   ]
  },
  {
   "cell_type": "code",
   "execution_count": 35,
   "id": "440042ef",
   "metadata": {},
   "outputs": [
    {
     "data": {
      "text/plain": [
       "Loan_ID                      0\n",
       "Loan_Amount_Requested        0\n",
       "Length_Employed              0\n",
       "Home_Owner                   0\n",
       "Annual_Income            25102\n",
       "Income_Verified              0\n",
       "Purpose_Of_Loan              0\n",
       "Debt_To_Income               0\n",
       "Inquiries_Last_6Mo           0\n",
       "Number_Open_Accounts         0\n",
       "Total_Accounts               0\n",
       "Gender                       0\n",
       "Interest_Rate                0\n",
       "dtype: int64"
      ]
     },
     "execution_count": 35,
     "metadata": {},
     "output_type": "execute_result"
    }
   ],
   "source": [
    "df.isnull().sum()"
   ]
  },
  {
   "cell_type": "code",
   "execution_count": 36,
   "id": "cfcd85ab",
   "metadata": {},
   "outputs": [
    {
     "data": {
      "text/plain": [
       "count    1.392070e+05\n",
       "mean     7.333116e+04\n",
       "std      6.037750e+04\n",
       "min      4.000000e+03\n",
       "25%      4.500000e+04\n",
       "50%      6.300000e+04\n",
       "75%      8.869750e+04\n",
       "max      7.500000e+06\n",
       "Name: Annual_Income, dtype: float64"
      ]
     },
     "execution_count": 36,
     "metadata": {},
     "output_type": "execute_result"
    }
   ],
   "source": [
    "df['Annual_Income'].describe()"
   ]
  },
  {
   "cell_type": "code",
   "execution_count": 37,
   "id": "092ddcae",
   "metadata": {},
   "outputs": [
    {
     "data": {
      "text/plain": [
       "(array([  355.,  2895.,  9548., 17083., 18589., 19395., 15868., 13505.,\n",
       "        10396.,  5743.]),\n",
       " array([ 4000.  , 13599.99, 23199.98, 32799.97, 42399.96, 51999.95,\n",
       "        61599.94, 71199.93, 80799.92, 90399.91, 99999.9 ]),\n",
       " <BarContainer object of 10 artists>)"
      ]
     },
     "execution_count": 37,
     "metadata": {},
     "output_type": "execute_result"
    },
    {
     "data": {
      "image/png": "[encoded data removed]",
      "text/plain": [
       "<Figure size 640x480 with 1 Axes>"
      ]
     },
     "metadata": {},
     "output_type": "display_data"
    }
   ],
   "source": [
    "plt.hist(df[df['Annual_Income']<100000]['Annual_Income'], bins = 10)"
   ]
  },
  {
   "cell_type": "code",
   "execution_count": 38,
   "id": "20e82e9f",
   "metadata": {},
   "outputs": [
    {
     "name": "stdout",
     "output_type": "stream",
     "text": [
      "<class 'pandas.core.frame.DataFrame'>\n",
      "RangeIndex: 164309 entries, 0 to 164308\n",
      "Data columns (total 13 columns):\n",
      " #   Column                 Non-Null Count   Dtype  \n",
      "---  ------                 --------------   -----  \n",
      " 0   Loan_ID                164309 non-null  int64  \n",
      " 1   Loan_Amount_Requested  164309 non-null  float64\n",
      " 2   Length_Employed        164309 non-null  float64\n",
      " 3   Home_Owner             164309 non-null  object \n",
      " 4   Annual_Income          139207 non-null  float64\n",
      " 5   Income_Verified        164309 non-null  object \n",
      " 6   Purpose_Of_Loan        164309 non-null  object \n",
      " 7   Debt_To_Income         164309 non-null  float64\n",
      " 8   Inquiries_Last_6Mo     164309 non-null  int64  \n",
      " 9   Number_Open_Accounts   164309 non-null  int64  \n",
      " 10  Total_Accounts         164309 non-null  float64\n",
      " 11  Gender                 164309 non-null  object \n",
      " 12  Interest_Rate          164309 non-null  int64  \n",
      "dtypes: float64(5), int64(4), object(4)\n",
      "memory usage: 16.3+ MB\n"
     ]
    }
   ],
   "source": [
    "df.info()"
   ]
  },
  {
   "cell_type": "code",
   "execution_count": 39,
   "id": "060ce8fe",
   "metadata": {},
   "outputs": [
    {
     "data": {
      "text/plain": [
       "Debt_To_Income          -0.173589\n",
       "Interest_Rate           -0.052783\n",
       "Inquiries_Last_6Mo       0.060011\n",
       "Length_Employed          0.070139\n",
       "Number_Open_Accounts     0.145822\n",
       "Total_Accounts           0.203237\n",
       "Loan_Amount_Requested    0.280053\n",
       "Annual_Income            1.000000\n",
       "Name: Annual_Income, dtype: float64"
      ]
     },
     "execution_count": 39,
     "metadata": {},
     "output_type": "execute_result"
    }
   ],
   "source": [
    "df.loc[:,['Loan_Amount_Requested', 'Length_Employed', 'Annual_Income', 'Debt_To_Income', 'Inquiries_Last_6Mo', 'Number_Open_Accounts', 'Total_Accounts', 'Interest_Rate']].corr()['Annual_Income'].sort_values()"
   ]
  },
  {
   "cell_type": "code",
   "execution_count": 40,
   "id": "0a12209c",
   "metadata": {},
   "outputs": [
    {
     "data": {
      "text/plain": [
       "Total_Accounts\n",
       "2.0       88617.400000\n",
       "3.0       36087.616140\n",
       "4.0       44522.606276\n",
       "5.0       45691.847537\n",
       "6.0       47686.809039\n",
       "             ...      \n",
       "99.0      97000.000000\n",
       "102.0              NaN\n",
       "105.0     38000.000000\n",
       "116.0    240000.000000\n",
       "156.0     42000.000000\n",
       "Name: Annual_Income, Length: 100, dtype: float64"
      ]
     },
     "execution_count": 40,
     "metadata": {},
     "output_type": "execute_result"
    }
   ],
   "source": [
    "av = df.loc[:,['Loan_Amount_Requested', 'Length_Employed', 'Annual_Income', 'Debt_To_Income', 'Inquiries_Last_6Mo', 'Number_Open_Accounts', 'Total_Accounts', 'Interest_Rate']].groupby('Total_Accounts').mean()['Annual_Income']\n",
    "av"
   ]
  },
  {
   "cell_type": "code",
   "execution_count": 41,
   "id": "cfafa8f6",
   "metadata": {},
   "outputs": [],
   "source": [
    "def completar_an_inc(x,y):\n",
    "    if np.isnan(y):\n",
    "        return av[x] \n",
    "    else:\n",
    "        return y"
   ]
  },
  {
   "cell_type": "code",
   "execution_count": 42,
   "id": "00d5ec30",
   "metadata": {},
   "outputs": [
    {
     "data": {
      "text/plain": [
       "Loan_ID                  0\n",
       "Loan_Amount_Requested    0\n",
       "Length_Employed          0\n",
       "Home_Owner               0\n",
       "Annual_Income            1\n",
       "Income_Verified          0\n",
       "Purpose_Of_Loan          0\n",
       "Debt_To_Income           0\n",
       "Inquiries_Last_6Mo       0\n",
       "Number_Open_Accounts     0\n",
       "Total_Accounts           0\n",
       "Gender                   0\n",
       "Interest_Rate            0\n",
       "dtype: int64"
      ]
     },
     "execution_count": 42,
     "metadata": {},
     "output_type": "execute_result"
    }
   ],
   "source": [
    "df['Annual_Income'] = df.apply(lambda x: completar_an_inc(x['Total_Accounts'], x['Annual_Income']), axis=1)\n",
    "\n",
    "df.isnull().sum()"
   ]
  },
  {
   "cell_type": "code",
   "execution_count": 43,
   "id": "00644201",
   "metadata": {},
   "outputs": [
    {
     "data": {
      "text/html": [
       "<div>\n",
       "<style scoped>\n",
       "    .dataframe tbody tr th:only-of-type {\n",
       "        vertical-align: middle;\n",
       "    }\n",
       "\n",
       "    .dataframe tbody tr th {\n",
       "        vertical-align: top;\n",
       "    }\n",
       "\n",
       "    .dataframe thead th {\n",
       "        text-align: right;\n",
       "    }\n",
       "</style>\n",
       "<table border=\"1\" class=\"dataframe\">\n",
       "  <thead>\n",
       "    <tr style=\"text-align: right;\">\n",
       "      <th></th>\n",
       "      <th>Loan_ID</th>\n",
       "      <th>Loan_Amount_Requested</th>\n",
       "      <th>Length_Employed</th>\n",
       "      <th>Home_Owner</th>\n",
       "      <th>Annual_Income</th>\n",
       "      <th>Income_Verified</th>\n",
       "      <th>Purpose_Of_Loan</th>\n",
       "      <th>Debt_To_Income</th>\n",
       "      <th>Inquiries_Last_6Mo</th>\n",
       "      <th>Number_Open_Accounts</th>\n",
       "      <th>Total_Accounts</th>\n",
       "      <th>Gender</th>\n",
       "      <th>Interest_Rate</th>\n",
       "    </tr>\n",
       "  </thead>\n",
       "  <tbody>\n",
       "    <tr>\n",
       "      <th>86968</th>\n",
       "      <td>10086969</td>\n",
       "      <td>24.0</td>\n",
       "      <td>7.0</td>\n",
       "      <td>Mortgage</td>\n",
       "      <td>NaN</td>\n",
       "      <td>VERIFIED - income</td>\n",
       "      <td>home_improvement</td>\n",
       "      <td>19.51</td>\n",
       "      <td>0</td>\n",
       "      <td>10</td>\n",
       "      <td>102.0</td>\n",
       "      <td>Male</td>\n",
       "      <td>3</td>\n",
       "    </tr>\n",
       "  </tbody>\n",
       "</table>\n",
       "</div>"
      ],
      "text/plain": [
       "        Loan_ID  Loan_Amount_Requested  Length_Employed Home_Owner   \n",
       "86968  10086969                   24.0              7.0   Mortgage  \\\n",
       "\n",
       "       Annual_Income    Income_Verified   Purpose_Of_Loan  Debt_To_Income   \n",
       "86968            NaN  VERIFIED - income  home_improvement           19.51  \\\n",
       "\n",
       "       Inquiries_Last_6Mo  Number_Open_Accounts  Total_Accounts Gender   \n",
       "86968                   0                    10           102.0   Male  \\\n",
       "\n",
       "       Interest_Rate  \n",
       "86968              3  "
      ]
     },
     "execution_count": 43,
     "metadata": {},
     "output_type": "execute_result"
    }
   ],
   "source": [
    "df[df['Annual_Income'].isnull()] "
   ]
  },
  {
   "cell_type": "code",
   "execution_count": 44,
   "id": "74ef4471",
   "metadata": {},
   "outputs": [],
   "source": [
    "df.dropna(inplace=True)"
   ]
  },
  {
   "cell_type": "markdown",
   "id": "57710691",
   "metadata": {},
   "source": [
    "visualizamos antes de limpiar de todo"
   ]
  },
  {
   "cell_type": "code",
   "execution_count": 45,
   "id": "9475e62c",
   "metadata": {},
   "outputs": [
    {
     "data": {
      "text/html": [
       "<div>\n",
       "<style scoped>\n",
       "    .dataframe tbody tr th:only-of-type {\n",
       "        vertical-align: middle;\n",
       "    }\n",
       "\n",
       "    .dataframe tbody tr th {\n",
       "        vertical-align: top;\n",
       "    }\n",
       "\n",
       "    .dataframe thead th {\n",
       "        text-align: right;\n",
       "    }\n",
       "</style>\n",
       "<table border=\"1\" class=\"dataframe\">\n",
       "  <thead>\n",
       "    <tr style=\"text-align: right;\">\n",
       "      <th></th>\n",
       "      <th>count</th>\n",
       "      <th>mean</th>\n",
       "      <th>std</th>\n",
       "      <th>min</th>\n",
       "      <th>25%</th>\n",
       "      <th>50%</th>\n",
       "      <th>75%</th>\n",
       "      <th>max</th>\n",
       "    </tr>\n",
       "  </thead>\n",
       "  <tbody>\n",
       "    <tr>\n",
       "      <th>Loan_ID</th>\n",
       "      <td>164308.0</td>\n",
       "      <td>1.008215e+07</td>\n",
       "      <td>47432.209880</td>\n",
       "      <td>10000001.0</td>\n",
       "      <td>10041077.75</td>\n",
       "      <td>1.008215e+07</td>\n",
       "      <td>1.012323e+07</td>\n",
       "      <td>10164309.00</td>\n",
       "    </tr>\n",
       "    <tr>\n",
       "      <th>Loan_Amount_Requested</th>\n",
       "      <td>164308.0</td>\n",
       "      <td>1.438348e+01</td>\n",
       "      <td>9.649422</td>\n",
       "      <td>1.0</td>\n",
       "      <td>8.00</td>\n",
       "      <td>1.207500e+01</td>\n",
       "      <td>2.000000e+01</td>\n",
       "      <td>950.00</td>\n",
       "    </tr>\n",
       "    <tr>\n",
       "      <th>Length_Employed</th>\n",
       "      <td>164308.0</td>\n",
       "      <td>5.990712e+00</td>\n",
       "      <td>3.548372</td>\n",
       "      <td>0.0</td>\n",
       "      <td>3.00</td>\n",
       "      <td>6.000000e+00</td>\n",
       "      <td>1.000000e+01</td>\n",
       "      <td>10.00</td>\n",
       "    </tr>\n",
       "    <tr>\n",
       "      <th>Annual_Income</th>\n",
       "      <td>164308.0</td>\n",
       "      <td>7.332921e+04</td>\n",
       "      <td>55796.901118</td>\n",
       "      <td>4000.0</td>\n",
       "      <td>48000.00</td>\n",
       "      <td>6.500000e+04</td>\n",
       "      <td>8.560164e+04</td>\n",
       "      <td>7500000.00</td>\n",
       "    </tr>\n",
       "    <tr>\n",
       "      <th>Debt_To_Income</th>\n",
       "      <td>164308.0</td>\n",
       "      <td>1.720718e+01</td>\n",
       "      <td>7.845104</td>\n",
       "      <td>0.0</td>\n",
       "      <td>11.37</td>\n",
       "      <td>1.684000e+01</td>\n",
       "      <td>2.278000e+01</td>\n",
       "      <td>39.99</td>\n",
       "    </tr>\n",
       "    <tr>\n",
       "      <th>Inquiries_Last_6Mo</th>\n",
       "      <td>164308.0</td>\n",
       "      <td>7.817027e-01</td>\n",
       "      <td>1.034748</td>\n",
       "      <td>0.0</td>\n",
       "      <td>0.00</td>\n",
       "      <td>0.000000e+00</td>\n",
       "      <td>1.000000e+00</td>\n",
       "      <td>8.00</td>\n",
       "    </tr>\n",
       "    <tr>\n",
       "      <th>Number_Open_Accounts</th>\n",
       "      <td>164308.0</td>\n",
       "      <td>1.119383e+01</td>\n",
       "      <td>4.991828</td>\n",
       "      <td>0.0</td>\n",
       "      <td>8.00</td>\n",
       "      <td>1.000000e+01</td>\n",
       "      <td>1.400000e+01</td>\n",
       "      <td>76.00</td>\n",
       "    </tr>\n",
       "    <tr>\n",
       "      <th>Total_Accounts</th>\n",
       "      <td>164308.0</td>\n",
       "      <td>2.506720e+01</td>\n",
       "      <td>11.581547</td>\n",
       "      <td>2.0</td>\n",
       "      <td>17.00</td>\n",
       "      <td>2.300000e+01</td>\n",
       "      <td>3.200000e+01</td>\n",
       "      <td>156.00</td>\n",
       "    </tr>\n",
       "    <tr>\n",
       "      <th>Interest_Rate</th>\n",
       "      <td>164308.0</td>\n",
       "      <td>2.158945e+00</td>\n",
       "      <td>0.738363</td>\n",
       "      <td>1.0</td>\n",
       "      <td>2.00</td>\n",
       "      <td>2.000000e+00</td>\n",
       "      <td>3.000000e+00</td>\n",
       "      <td>3.00</td>\n",
       "    </tr>\n",
       "  </tbody>\n",
       "</table>\n",
       "</div>"
      ],
      "text/plain": [
       "                          count          mean           std         min   \n",
       "Loan_ID                164308.0  1.008215e+07  47432.209880  10000001.0  \\\n",
       "Loan_Amount_Requested  164308.0  1.438348e+01      9.649422         1.0   \n",
       "Length_Employed        164308.0  5.990712e+00      3.548372         0.0   \n",
       "Annual_Income          164308.0  7.332921e+04  55796.901118      4000.0   \n",
       "Debt_To_Income         164308.0  1.720718e+01      7.845104         0.0   \n",
       "Inquiries_Last_6Mo     164308.0  7.817027e-01      1.034748         0.0   \n",
       "Number_Open_Accounts   164308.0  1.119383e+01      4.991828         0.0   \n",
       "Total_Accounts         164308.0  2.506720e+01     11.581547         2.0   \n",
       "Interest_Rate          164308.0  2.158945e+00      0.738363         1.0   \n",
       "\n",
       "                               25%           50%           75%          max  \n",
       "Loan_ID                10041077.75  1.008215e+07  1.012323e+07  10164309.00  \n",
       "Loan_Amount_Requested         8.00  1.207500e+01  2.000000e+01       950.00  \n",
       "Length_Employed               3.00  6.000000e+00  1.000000e+01        10.00  \n",
       "Annual_Income             48000.00  6.500000e+04  8.560164e+04   7500000.00  \n",
       "Debt_To_Income               11.37  1.684000e+01  2.278000e+01        39.99  \n",
       "Inquiries_Last_6Mo            0.00  0.000000e+00  1.000000e+00         8.00  \n",
       "Number_Open_Accounts          8.00  1.000000e+01  1.400000e+01        76.00  \n",
       "Total_Accounts               17.00  2.300000e+01  3.200000e+01       156.00  \n",
       "Interest_Rate                 2.00  2.000000e+00  3.000000e+00         3.00  "
      ]
     },
     "execution_count": 45,
     "metadata": {},
     "output_type": "execute_result"
    }
   ],
   "source": [
    "df.describe().transpose()"
   ]
  },
  {
   "cell_type": "code",
   "execution_count": 46,
   "id": "84499342",
   "metadata": {},
   "outputs": [
    {
     "data": {
      "text/plain": [
       "<Axes: xlabel='Interest_Rate', ylabel='count'>"
      ]
     },
     "execution_count": 46,
     "metadata": {},
     "output_type": "execute_result"
    },
    {
     "data": {
      "image/png": "[encoded data removed]",
      "text/plain": [
       "<Figure size 640x480 with 1 Axes>"
      ]
     },
     "metadata": {},
     "output_type": "display_data"
    }
   ],
   "source": [
    "sns.countplot(x='Interest_Rate',data=df)"
   ]
  },
  {
   "cell_type": "code",
   "execution_count": 47,
   "id": "81e40867",
   "metadata": {},
   "outputs": [
    {
     "name": "stdout",
     "output_type": "stream",
     "text": [
      "<class 'pandas.core.frame.DataFrame'>\n",
      "Index: 164308 entries, 0 to 164308\n",
      "Data columns (total 13 columns):\n",
      " #   Column                 Non-Null Count   Dtype  \n",
      "---  ------                 --------------   -----  \n",
      " 0   Loan_ID                164308 non-null  int64  \n",
      " 1   Loan_Amount_Requested  164308 non-null  float64\n",
      " 2   Length_Employed        164308 non-null  float64\n",
      " 3   Home_Owner             164308 non-null  object \n",
      " 4   Annual_Income          164308 non-null  float64\n",
      " 5   Income_Verified        164308 non-null  object \n",
      " 6   Purpose_Of_Loan        164308 non-null  object \n",
      " 7   Debt_To_Income         164308 non-null  float64\n",
      " 8   Inquiries_Last_6Mo     164308 non-null  int64  \n",
      " 9   Number_Open_Accounts   164308 non-null  int64  \n",
      " 10  Total_Accounts         164308 non-null  float64\n",
      " 11  Gender                 164308 non-null  object \n",
      " 12  Interest_Rate          164308 non-null  int64  \n",
      "dtypes: float64(5), int64(4), object(4)\n",
      "memory usage: 17.5+ MB\n"
     ]
    }
   ],
   "source": [
    "df.info()"
   ]
  },
  {
   "cell_type": "code",
   "execution_count": 48,
   "id": "a5f3d327",
   "metadata": {},
   "outputs": [
    {
     "data": {
      "text/plain": [
       "True"
      ]
     },
     "execution_count": 48,
     "metadata": {},
     "output_type": "execute_result"
    }
   ],
   "source": [
    "df_cual = df.select_dtypes(include=['object'])\n",
    "df_cuan = df.select_dtypes(include=['float64','int64'])\n",
    "df_cual.shape[1]+df_cuan.shape[1] == df.shape[1]"
   ]
  },
  {
   "cell_type": "code",
   "execution_count": 49,
   "id": "70ffab78",
   "metadata": {},
   "outputs": [
    {
     "data": {
      "text/plain": [
       "<Axes: >"
      ]
     },
     "execution_count": 49,
     "metadata": {},
     "output_type": "execute_result"
    },
    {
     "data": {
      "image/png": "[encoded data removed]",
      "text/plain": [
       "<Figure size 640x480 with 1 Axes>"
      ]
     },
     "metadata": {},
     "output_type": "display_data"
    }
   ],
   "source": [
    "df_cuan.corr()['Interest_Rate'][:-1].sort_values().plot(kind='bar')"
   ]
  },
  {
   "cell_type": "code",
   "execution_count": 50,
   "id": "9fcad178",
   "metadata": {},
   "outputs": [
    {
     "data": {
      "text/plain": [
       "<Axes: xlabel='Interest_Rate', ylabel='Inquiries_Last_6Mo'>"
      ]
     },
     "execution_count": 50,
     "metadata": {},
     "output_type": "execute_result"
    },
    {
     "data": {
      "image/png": "[encoded data removed]",
      "text/plain": [
       "<Figure size 1200x800 with 1 Axes>"
      ]
     },
     "metadata": {},
     "output_type": "display_data"
    }
   ],
   "source": [
    "plt.figure(figsize=(12,8))\n",
    "sns.scatterplot(x='Interest_Rate',y='Inquiries_Last_6Mo',data=df_cuan)"
   ]
  },
  {
   "cell_type": "code",
   "execution_count": 51,
   "id": "cfeb68c1",
   "metadata": {},
   "outputs": [
    {
     "data": {
      "text/plain": [
       "<Axes: xlabel='Gender'>"
      ]
     },
     "execution_count": 51,
     "metadata": {},
     "output_type": "execute_result"
    },
    {
     "data": {
      "image/png": "[encoded data removed]",
      "text/plain": [
       "<Figure size 640x480 with 1 Axes>"
      ]
     },
     "metadata": {},
     "output_type": "display_data"
    }
   ],
   "source": [
    "df.pivot_table(index=\"Gender\", columns=\"Interest_Rate\", values=\"Loan_ID\", aggfunc=\"count\").plot(kind=\"bar\")"
   ]
  },
  {
   "cell_type": "code",
   "execution_count": 52,
   "id": "c7bf91aa",
   "metadata": {},
   "outputs": [
    {
     "data": {
      "text/plain": [
       "<Axes: xlabel='Purpose_Of_Loan'>"
      ]
     },
     "execution_count": 52,
     "metadata": {},
     "output_type": "execute_result"
    },
    {
     "data": {
      "image/png": "[encoded data removed]",
      "text/plain": [
       "<Figure size 640x480 with 1 Axes>"
      ]
     },
     "metadata": {},
     "output_type": "display_data"
    }
   ],
   "source": [
    "df.groupby(\"Purpose_Of_Loan\").agg(\"count\")[\"Interest_Rate\"].plot(kind=\"bar\")"
   ]
  },
  {
   "cell_type": "markdown",
   "id": "2b3063b4",
   "metadata": {},
   "source": [
    "Limpieza final"
   ]
  },
  {
   "cell_type": "code",
   "execution_count": 53,
   "id": "b26d7ca4",
   "metadata": {},
   "outputs": [
    {
     "data": {
      "text/plain": [
       "Annual_Income           -0.050086\n",
       "Total_Accounts          -0.040741\n",
       "Loan_ID                  0.001289\n",
       "Number_Open_Accounts     0.002849\n",
       "Length_Employed          0.029096\n",
       "Loan_Amount_Requested    0.109633\n",
       "Debt_To_Income           0.152470\n",
       "Inquiries_Last_6Mo       0.188993\n",
       "Interest_Rate            1.000000\n",
       "Name: Interest_Rate, dtype: float64"
      ]
     },
     "execution_count": 53,
     "metadata": {},
     "output_type": "execute_result"
    }
   ],
   "source": [
    "df_cuan.corr()['Interest_Rate'].sort_values() #Podríamos eliminar \"Number_Open_Accounts\", correlación muy baja"
   ]
  },
  {
   "cell_type": "code",
   "execution_count": 54,
   "id": "3502bbd9",
   "metadata": {},
   "outputs": [],
   "source": [
    "df = df.drop(['Number_Open_Accounts','Loan_ID','Income_Verified'],axis=1)"
   ]
  },
  {
   "cell_type": "markdown",
   "id": "5f5e35a2",
   "metadata": {},
   "source": [
    "transformamos categoricas"
   ]
  },
  {
   "cell_type": "code",
   "execution_count": 55,
   "id": "cee5eac1",
   "metadata": {},
   "outputs": [
    {
     "data": {
      "text/plain": [
       "Home_Owner\n",
       "Mortgage    86381\n",
       "Rent        65353\n",
       "Own         12525\n",
       "Other          49\n",
       "Name: count, dtype: int64"
      ]
     },
     "execution_count": 55,
     "metadata": {},
     "output_type": "execute_result"
    }
   ],
   "source": [
    "# Pensar si merece la pena realizar algún filtrado de datos si alguna categoría tiene \n",
    "# un contador muy bajo y así ahorramos columnas dummy\n",
    "df['Home_Owner'].value_counts() "
   ]
  },
  {
   "cell_type": "code",
   "execution_count": 56,
   "id": "109a18a6",
   "metadata": {},
   "outputs": [
    {
     "name": "stdout",
     "output_type": "stream",
     "text": [
      "164308\n",
      "164259\n"
     ]
    },
    {
     "data": {
      "text/plain": [
       "Home_Owner\n",
       "Mortgage    86381\n",
       "Rent        65353\n",
       "Own         12525\n",
       "Name: count, dtype: int64"
      ]
     },
     "execution_count": 56,
     "metadata": {},
     "output_type": "execute_result"
    }
   ],
   "source": [
    "#buscar concepto other, elimar del registro => sentido ok\n",
    "print(df.shape[0])\n",
    "df = df[df['Home_Owner'] != 'Other']\n",
    "print(df.shape[0])\n",
    "df['Home_Owner'].value_counts()"
   ]
  },
  {
   "cell_type": "code",
   "execution_count": 57,
   "id": "2fc6cbe0",
   "metadata": {},
   "outputs": [
    {
     "data": {
      "text/plain": [
       "Purpose_Of_Loan\n",
       "debt_consolidation    97081\n",
       "credit_card           36670\n",
       "home_improvement       9266\n",
       "other                  8341\n",
       "major_purchase         3432\n",
       "small_business         2391\n",
       "car                    1884\n",
       "medical                1539\n",
       "moving                  974\n",
       "vacation                837\n",
       "wedding                 828\n",
       "house                   773\n",
       "renewable_energy        123\n",
       "educational             120\n",
       "Name: count, dtype: int64"
      ]
     },
     "execution_count": 57,
     "metadata": {},
     "output_type": "execute_result"
    }
   ],
   "source": [
    "df['Purpose_Of_Loan'].value_counts()"
   ]
  },
  {
   "cell_type": "code",
   "execution_count": 58,
   "id": "2d57a594",
   "metadata": {},
   "outputs": [
    {
     "data": {
      "text/plain": [
       "Purpose_Of_Loan\n",
       "debt_consolidation      97081\n",
       "credit_card             36670\n",
       "home_improvement         9266\n",
       "significant_expenses     9246\n",
       "other                    8341\n",
       "life_events              3655\n",
       "Name: count, dtype: int64"
      ]
     },
     "execution_count": 58,
     "metadata": {},
     "output_type": "execute_result"
    }
   ],
   "source": [
    "# Recategorizar  => sentido genetico ok\n",
    "## - debt_consolidation    \n",
    "## - credit_card           \n",
    "## - home_improvement\n",
    "## - other\n",
    "## - significant_expenses = major_purchase + small_business + car + medical\n",
    "## - life_events = moving + vacation + wedding + house + renewable_energy + educational\n",
    "recategorization_map = {\n",
    "    'major_purchase': 'significant_expenses',\n",
    "    'small_business': 'significant_expenses',\n",
    "    'car': 'significant_expenses',\n",
    "    'medical': 'significant_expenses',\n",
    "    'moving': 'life_events',\n",
    "    'vacation': 'life_events',\n",
    "    'wedding': 'life_events',\n",
    "    'house': 'life_events',\n",
    "    'renewable_energy': 'life_events',\n",
    "    'educational': 'life_events'\n",
    "}\n",
    "df['Purpose_Of_Loan'] = df['Purpose_Of_Loan'].replace(recategorization_map)\n",
    "df['Purpose_Of_Loan'].value_counts()"
   ]
  },
  {
   "cell_type": "code",
   "execution_count": 59,
   "id": "47badd05",
   "metadata": {},
   "outputs": [
    {
     "data": {
      "text/plain": [
       "Gender\n",
       "Male      117143\n",
       "Female     47116\n",
       "Name: count, dtype: int64"
      ]
     },
     "execution_count": 59,
     "metadata": {},
     "output_type": "execute_result"
    }
   ],
   "source": [
    "df['Gender'].value_counts()"
   ]
  },
  {
   "cell_type": "code",
   "execution_count": 60,
   "id": "acf76250",
   "metadata": {},
   "outputs": [],
   "source": [
    "#Transformar 'Home_Owner'\n",
    "dummies = pd.get_dummies(df[['Home_Owner', 'Purpose_Of_Loan','Gender']]) \n",
    "#se puede añadir drop_first=True evita redundancia y evita crear una columna por cada variable"
   ]
  },
  {
   "cell_type": "code",
   "execution_count": 61,
   "id": "8bd72044",
   "metadata": {},
   "outputs": [],
   "source": [
    "df_post = pd.concat([df,dummies],axis=1)\n",
    "df_post = df_post.drop(['Home_Owner', 'Purpose_Of_Loan','Gender'],axis=1) #Eliminamos las columnas originales"
   ]
  },
  {
   "cell_type": "code",
   "execution_count": 62,
   "id": "3c4e6a94",
   "metadata": {},
   "outputs": [
    {
     "name": "stdout",
     "output_type": "stream",
     "text": [
      "<class 'pandas.core.frame.DataFrame'>\n",
      "Index: 164259 entries, 0 to 164308\n",
      "Data columns (total 18 columns):\n",
      " #   Column                                Non-Null Count   Dtype  \n",
      "---  ------                                --------------   -----  \n",
      " 0   Loan_Amount_Requested                 164259 non-null  float64\n",
      " 1   Length_Employed                       164259 non-null  float64\n",
      " 2   Annual_Income                         164259 non-null  float64\n",
      " 3   Debt_To_Income                        164259 non-null  float64\n",
      " 4   Inquiries_Last_6Mo                    164259 non-null  int64  \n",
      " 5   Total_Accounts                        164259 non-null  float64\n",
      " 6   Interest_Rate                         164259 non-null  int64  \n",
      " 7   Home_Owner_Mortgage                   164259 non-null  bool   \n",
      " 8   Home_Owner_Own                        164259 non-null  bool   \n",
      " 9   Home_Owner_Rent                       164259 non-null  bool   \n",
      " 10  Purpose_Of_Loan_credit_card           164259 non-null  bool   \n",
      " 11  Purpose_Of_Loan_debt_consolidation    164259 non-null  bool   \n",
      " 12  Purpose_Of_Loan_home_improvement      164259 non-null  bool   \n",
      " 13  Purpose_Of_Loan_life_events           164259 non-null  bool   \n",
      " 14  Purpose_Of_Loan_other                 164259 non-null  bool   \n",
      " 15  Purpose_Of_Loan_significant_expenses  164259 non-null  bool   \n",
      " 16  Gender_Female                         164259 non-null  bool   \n",
      " 17  Gender_Male                           164259 non-null  bool   \n",
      "dtypes: bool(11), float64(5), int64(2)\n",
      "memory usage: 11.7 MB\n"
     ]
    }
   ],
   "source": [
    "df_post.info()"
   ]
  },
  {
   "cell_type": "markdown",
   "id": "303ec3e5",
   "metadata": {},
   "source": [
    "tarin-test"
   ]
  },
  {
   "cell_type": "code",
   "execution_count": 63,
   "id": "6cad099c",
   "metadata": {},
   "outputs": [],
   "source": [
    "X = df_post.drop('Interest_Rate',axis=1).values\n",
    "y = df_post['Interest_Rate']"
   ]
  },
  {
   "cell_type": "code",
   "execution_count": 64,
   "id": "e973e1d5",
   "metadata": {},
   "outputs": [
    {
     "name": "stdout",
     "output_type": "stream",
     "text": [
      "<class 'pandas.core.series.Series'>\n",
      "Index: 164259 entries, 0 to 164308\n",
      "Series name: Interest_Rate\n",
      "Non-Null Count   Dtype\n",
      "--------------   -----\n",
      "164259 non-null  int64\n",
      "dtypes: int64(1)\n",
      "memory usage: 2.5 MB\n"
     ]
    }
   ],
   "source": [
    "y.info()"
   ]
  },
  {
   "cell_type": "code",
   "execution_count": 65,
   "id": "f350c7a9",
   "metadata": {},
   "outputs": [
    {
     "data": {
      "text/plain": [
       "0         1\n",
       "1         3\n",
       "2         3\n",
       "3         3\n",
       "4         1\n",
       "         ..\n",
       "164304    2\n",
       "164305    2\n",
       "164306    1\n",
       "164307    3\n",
       "164308    2\n",
       "Name: Interest_Rate, Length: 164259, dtype: int64"
      ]
     },
     "execution_count": 65,
     "metadata": {},
     "output_type": "execute_result"
    }
   ],
   "source": [
    "y"
   ]
  },
  {
   "cell_type": "code",
   "execution_count": 66,
   "id": "f48e4e2b",
   "metadata": {},
   "outputs": [],
   "source": [
    "y = pd.get_dummies(y) #la dumificamos... "
   ]
  },
  {
   "cell_type": "code",
   "execution_count": 67,
   "id": "77f5e763",
   "metadata": {},
   "outputs": [
    {
     "data": {
      "text/html": [
       "<div>\n",
       "<style scoped>\n",
       "    .dataframe tbody tr th:only-of-type {\n",
       "        vertical-align: middle;\n",
       "    }\n",
       "\n",
       "    .dataframe tbody tr th {\n",
       "        vertical-align: top;\n",
       "    }\n",
       "\n",
       "    .dataframe thead th {\n",
       "        text-align: right;\n",
       "    }\n",
       "</style>\n",
       "<table border=\"1\" class=\"dataframe\">\n",
       "  <thead>\n",
       "    <tr style=\"text-align: right;\">\n",
       "      <th></th>\n",
       "      <th>1</th>\n",
       "      <th>2</th>\n",
       "      <th>3</th>\n",
       "    </tr>\n",
       "  </thead>\n",
       "  <tbody>\n",
       "    <tr>\n",
       "      <th>0</th>\n",
       "      <td>True</td>\n",
       "      <td>False</td>\n",
       "      <td>False</td>\n",
       "    </tr>\n",
       "    <tr>\n",
       "      <th>1</th>\n",
       "      <td>False</td>\n",
       "      <td>False</td>\n",
       "      <td>True</td>\n",
       "    </tr>\n",
       "    <tr>\n",
       "      <th>2</th>\n",
       "      <td>False</td>\n",
       "      <td>False</td>\n",
       "      <td>True</td>\n",
       "    </tr>\n",
       "    <tr>\n",
       "      <th>3</th>\n",
       "      <td>False</td>\n",
       "      <td>False</td>\n",
       "      <td>True</td>\n",
       "    </tr>\n",
       "    <tr>\n",
       "      <th>4</th>\n",
       "      <td>True</td>\n",
       "      <td>False</td>\n",
       "      <td>False</td>\n",
       "    </tr>\n",
       "    <tr>\n",
       "      <th>...</th>\n",
       "      <td>...</td>\n",
       "      <td>...</td>\n",
       "      <td>...</td>\n",
       "    </tr>\n",
       "    <tr>\n",
       "      <th>164304</th>\n",
       "      <td>False</td>\n",
       "      <td>True</td>\n",
       "      <td>False</td>\n",
       "    </tr>\n",
       "    <tr>\n",
       "      <th>164305</th>\n",
       "      <td>False</td>\n",
       "      <td>True</td>\n",
       "      <td>False</td>\n",
       "    </tr>\n",
       "    <tr>\n",
       "      <th>164306</th>\n",
       "      <td>True</td>\n",
       "      <td>False</td>\n",
       "      <td>False</td>\n",
       "    </tr>\n",
       "    <tr>\n",
       "      <th>164307</th>\n",
       "      <td>False</td>\n",
       "      <td>False</td>\n",
       "      <td>True</td>\n",
       "    </tr>\n",
       "    <tr>\n",
       "      <th>164308</th>\n",
       "      <td>False</td>\n",
       "      <td>True</td>\n",
       "      <td>False</td>\n",
       "    </tr>\n",
       "  </tbody>\n",
       "</table>\n",
       "<p>164259 rows × 3 columns</p>\n",
       "</div>"
      ],
      "text/plain": [
       "            1      2      3\n",
       "0        True  False  False\n",
       "1       False  False   True\n",
       "2       False  False   True\n",
       "3       False  False   True\n",
       "4        True  False  False\n",
       "...       ...    ...    ...\n",
       "164304  False   True  False\n",
       "164305  False   True  False\n",
       "164306   True  False  False\n",
       "164307  False  False   True\n",
       "164308  False   True  False\n",
       "\n",
       "[164259 rows x 3 columns]"
      ]
     },
     "execution_count": 67,
     "metadata": {},
     "output_type": "execute_result"
    }
   ],
   "source": [
    "y"
   ]
  },
  {
   "cell_type": "code",
   "execution_count": 68,
   "id": "66c098d9",
   "metadata": {},
   "outputs": [
    {
     "data": {
      "text/plain": [
       "array([[ True, False, False],\n",
       "       [False, False,  True],\n",
       "       [False, False,  True],\n",
       "       ...,\n",
       "       [ True, False, False],\n",
       "       [False, False,  True],\n",
       "       [False,  True, False]])"
      ]
     },
     "execution_count": 68,
     "metadata": {},
     "output_type": "execute_result"
    }
   ],
   "source": [
    "y = y.values\n",
    "y"
   ]
  },
  {
   "cell_type": "code",
   "execution_count": 69,
   "id": "11a0c704",
   "metadata": {},
   "outputs": [
    {
     "data": {
      "text/plain": [
       "array([[1, 0, 0],\n",
       "       [0, 0, 1],\n",
       "       [0, 0, 1],\n",
       "       ...,\n",
       "       [1, 0, 0],\n",
       "       [0, 0, 1],\n",
       "       [0, 1, 0]], dtype=uint8)"
      ]
     },
     "execution_count": 69,
     "metadata": {},
     "output_type": "execute_result"
    }
   ],
   "source": [
    "y = y.astype(np.uint8)\n",
    "y"
   ]
  },
  {
   "cell_type": "code",
   "execution_count": 70,
   "id": "53df69cc",
   "metadata": {},
   "outputs": [],
   "source": [
    "from sklearn.model_selection import train_test_split"
   ]
  },
  {
   "cell_type": "code",
   "execution_count": 71,
   "id": "619433f8",
   "metadata": {},
   "outputs": [],
   "source": [
    "X_train, X_test, y_train, y_test = train_test_split(X,y,test_size=0.25,random_state=101)"
   ]
  },
  {
   "cell_type": "code",
   "execution_count": 72,
   "id": "3dd298f5",
   "metadata": {},
   "outputs": [
    {
     "name": "stdout",
     "output_type": "stream",
     "text": [
      "X_train.shape=(123194, 17)\n",
      "X_test.shape=(41065, 17)\n"
     ]
    }
   ],
   "source": [
    "print(f\"X_train.shape={X_train.shape}\\nX_test.shape={X_test.shape}\")"
   ]
  },
  {
   "cell_type": "code",
   "execution_count": 73,
   "id": "606d5a98",
   "metadata": {},
   "outputs": [
    {
     "data": {
      "text/plain": [
       "array([[10.0, 4.0, 26000.0, ..., False, False, True],\n",
       "       [5.0, 5.8460328556448795, 65782.30881465517, ..., False, False,\n",
       "        True],\n",
       "       [4.8, 2.0, 60000.0, ..., False, False, True],\n",
       "       ...,\n",
       "       [15.0, 10.0, 110000.0, ..., True, True, False],\n",
       "       [4.025, 3.0, 34000.0, ..., False, False, True],\n",
       "       [9.0, 4.0, 40000.0, ..., False, True, False]], dtype=object)"
      ]
     },
     "execution_count": 73,
     "metadata": {},
     "output_type": "execute_result"
    }
   ],
   "source": [
    "X_train"
   ]
  },
  {
   "cell_type": "code",
   "execution_count": 74,
   "id": "8c96a4a4",
   "metadata": {},
   "outputs": [
    {
     "data": {
      "text/plain": [
       "array([[15.0, 2.0, 88000.0, ..., False, True, False],\n",
       "       [1.45, 1.0, 72515.0, ..., False, True, False],\n",
       "       [17.6, 10.0, 50000.0, ..., False, True, False],\n",
       "       ...,\n",
       "       [31.2, 10.0, 73800.0, ..., False, False, True],\n",
       "       [8.0, 8.0, 52000.0, ..., False, False, True],\n",
       "       [17.6, 10.0, 48000.0, ..., False, False, True]], dtype=object)"
      ]
     },
     "execution_count": 74,
     "metadata": {},
     "output_type": "execute_result"
    }
   ],
   "source": [
    "X_test"
   ]
  },
  {
   "cell_type": "markdown",
   "id": "c7a00315",
   "metadata": {},
   "source": [
    "Escalado"
   ]
  },
  {
   "cell_type": "code",
   "execution_count": 75,
   "id": "58d18d73",
   "metadata": {},
   "outputs": [],
   "source": [
    "from sklearn.preprocessing import MinMaxScaler"
   ]
  },
  {
   "cell_type": "code",
   "execution_count": 76,
   "id": "7536ddd2",
   "metadata": {},
   "outputs": [],
   "source": [
    "scaler = MinMaxScaler()\n",
    "X_train = scaler.fit_transform(X_train)\n",
    "X_test = scaler.fit_transform(X_test)"
   ]
  },
  {
   "cell_type": "code",
   "execution_count": 77,
   "id": "ba4bafa2",
   "metadata": {},
   "outputs": [
    {
     "data": {
      "text/plain": [
       "array([[2.80561122e-02, 2.00000000e-01, 2.15103445e-02, ...,\n",
       "        0.00000000e+00, 1.00000000e+00, 0.00000000e+00],\n",
       "       [9.01803607e-04, 1.00000000e-01, 1.75355511e-02, ...,\n",
       "        0.00000000e+00, 1.00000000e+00, 0.00000000e+00],\n",
       "       [3.32665331e-02, 1.00000000e+00, 1.17562503e-02, ...,\n",
       "        0.00000000e+00, 1.00000000e+00, 0.00000000e+00],\n",
       "       ...,\n",
       "       [6.05210421e-02, 1.00000000e+00, 1.78653935e-02, ...,\n",
       "        0.00000000e+00, 0.00000000e+00, 1.00000000e+00],\n",
       "       [1.40280561e-02, 8.00000000e-01, 1.22696237e-02, ...,\n",
       "        0.00000000e+00, 0.00000000e+00, 1.00000000e+00],\n",
       "       [3.32665331e-02, 1.00000000e+00, 1.12428769e-02, ...,\n",
       "        0.00000000e+00, 0.00000000e+00, 1.00000000e+00]])"
      ]
     },
     "execution_count": 77,
     "metadata": {},
     "output_type": "execute_result"
    }
   ],
   "source": [
    "X_test"
   ]
  },
  {
   "cell_type": "code",
   "execution_count": 78,
   "id": "1033e0c1",
   "metadata": {},
   "outputs": [
    {
     "data": {
      "text/plain": [
       "array([[0.00948367, 0.4       , 0.0029349 , ..., 0.        , 0.        ,\n",
       "        1.        ],\n",
       "       [0.00421496, 0.58460329, 0.00824204, ..., 0.        , 0.        ,\n",
       "        1.        ],\n",
       "       [0.00400421, 0.2       , 0.00747065, ..., 0.        , 0.        ,\n",
       "        1.        ],\n",
       "       ...,\n",
       "       [0.01475237, 1.        , 0.01414088, ..., 1.        , 1.        ,\n",
       "        0.        ],\n",
       "       [0.00318757, 0.3       , 0.00400213, ..., 0.        , 0.        ,\n",
       "        1.        ],\n",
       "       [0.00842993, 0.4       , 0.00480256, ..., 0.        , 1.        ,\n",
       "        0.        ]])"
      ]
     },
     "execution_count": 78,
     "metadata": {},
     "output_type": "execute_result"
    }
   ],
   "source": [
    "X_train"
   ]
  },
  {
   "cell_type": "code",
   "execution_count": 79,
   "id": "f1dcc900",
   "metadata": {},
   "outputs": [
    {
     "name": "stdout",
     "output_type": "stream",
     "text": [
      "X_train.shape=(123194, 17)\n",
      "X_test.shape=(41065, 17)\n"
     ]
    }
   ],
   "source": [
    "print(f\"X_train.shape={X_train.shape}\\nX_test.shape={X_test.shape}\")"
   ]
  },
  {
   "cell_type": "markdown",
   "id": "1f36a633",
   "metadata": {},
   "source": [
    "Modelaje"
   ]
  },
  {
   "cell_type": "code",
   "execution_count": 97,
   "id": "cc85aa3c",
   "metadata": {},
   "outputs": [],
   "source": [
    "import tensorflow as tf\n",
    "from tensorflow.keras.models import Sequential\n",
    "from tensorflow.keras.layers import Dense, Activation,Dropout\n",
    "from tensorflow.keras.callbacks import EarlyStopping\n",
    "from sklearn.metrics import classification_report, accuracy_score, confusion_matrix"
   ]
  },
  {
   "cell_type": "code",
   "execution_count": 81,
   "id": "841ef5c7",
   "metadata": {},
   "outputs": [],
   "source": [
    "num_neuronas = X_train.shape[1]\n",
    "num_neuronas_salida=len(df[\"Interest_Rate\"].unique())"
   ]
  },
  {
   "cell_type": "code",
   "execution_count": 82,
   "id": "0cd42d09",
   "metadata": {},
   "outputs": [],
   "source": [
    "# 17 >0.35> 11 >0.3>  8 >0.3> 5 >0.2> 3\n",
    "model = Sequential() \n",
    "model.add(Dense(units = int(num_neruonas),activation='relu'))\n",
    "model.add(Dropout(0.35))\n",
    "model.add(Dense(units = int(11),activation='relu'))\n",
    "model.add(Dropout(0.35))\n",
    "model.add(Dense(units = int(np.round(num_neruonas/2)),activation='relu'))\n",
    "model.add(Dropout(0.3))\n",
    "model.add(Dense(units = int(5),activation='relu'))\n",
    "model.add(Dropout(0.2))\n",
    "model.add(Dense(units = int(num_nuronas_final),activation='softmax'))\n",
    "model.compile(loss='categorical_crossentropy', optimizer='adam',metrics=['categorical_accuracy'])\n",
    "\n",
    "#model = Sequential()\n",
    "#model.add(Dense(units=int(num_neuronas), activation='relu'))\n",
    "#model.add(Dropout(0.3))\n",
    "#model.add(Dense(units=int(np.round(num_neuronas / 2)), activation='relu'))\n",
    "#model.add(Dropout(0.2))\n",
    "#model.add(Dense(units=int(num_neuronas_salida), activation='softmax'))\n",
    "#model.compile(loss='categorical_crossentropy', optimizer='adam',metrics=['categorical_accuracy'])\n",
    "#model.summary()"
   ]
  },
  {
   "cell_type": "code",
   "execution_count": 83,
   "id": "ce55fee6",
   "metadata": {},
   "outputs": [],
   "source": [
    "early_stop = EarlyStopping(monitor='val_loss', mode='min', verbose=1, patience=25)"
   ]
  },
  {
   "cell_type": "code",
   "execution_count": 84,
   "id": "b8376a54",
   "metadata": {},
   "outputs": [
    {
     "name": "stdout",
     "output_type": "stream",
     "text": [
      "Epoch 1/200\n",
      "\u001b[1m482/482\u001b[0m \u001b[32m━━━━━━━━━━━━━━━━━━━━\u001b[0m\u001b[37m\u001b[0m \u001b[1m4s\u001b[0m 3ms/step - categorical_accuracy: 0.4204 - loss: 1.0697 - val_categorical_accuracy: 0.4810 - val_loss: 1.0142\n",
      "Epoch 2/200\n",
      "\u001b[1m482/482\u001b[0m \u001b[32m━━━━━━━━━━━━━━━━━━━━\u001b[0m\u001b[37m\u001b[0m \u001b[1m2s\u001b[0m 4ms/step - categorical_accuracy: 0.4793 - loss: 1.0184 - val_categorical_accuracy: 0.4930 - val_loss: 0.9952\n",
      "Epoch 3/200\n",
      "\u001b[1m482/482\u001b[0m \u001b[32m━━━━━━━━━━━━━━━━━━━━\u001b[0m\u001b[37m\u001b[0m \u001b[1m2s\u001b[0m 4ms/step - categorical_accuracy: 0.4884 - loss: 1.0011 - val_categorical_accuracy: 0.4942 - val_loss: 0.9867\n",
      "Epoch 4/200\n",
      "\u001b[1m482/482\u001b[0m \u001b[32m━━━━━━━━━━━━━━━━━━━━\u001b[0m\u001b[37m\u001b[0m \u001b[1m3s\u001b[0m 6ms/step - categorical_accuracy: 0.4910 - loss: 0.9958 - val_categorical_accuracy: 0.4974 - val_loss: 0.9837\n",
      "Epoch 5/200\n",
      "\u001b[1m482/482\u001b[0m \u001b[32m━━━━━━━━━━━━━━━━━━━━\u001b[0m\u001b[37m\u001b[0m \u001b[1m2s\u001b[0m 4ms/step - categorical_accuracy: 0.4962 - loss: 0.9907 - val_categorical_accuracy: 0.4987 - val_loss: 0.9810\n",
      "Epoch 6/200\n",
      "\u001b[1m482/482\u001b[0m \u001b[32m━━━━━━━━━━━━━━━━━━━━\u001b[0m\u001b[37m\u001b[0m \u001b[1m2s\u001b[0m 3ms/step - categorical_accuracy: 0.4970 - loss: 0.9902 - val_categorical_accuracy: 0.5001 - val_loss: 0.9791\n",
      "Epoch 7/200\n",
      "\u001b[1m482/482\u001b[0m \u001b[32m━━━━━━━━━━━━━━━━━━━━\u001b[0m\u001b[37m\u001b[0m \u001b[1m2s\u001b[0m 3ms/step - categorical_accuracy: 0.4967 - loss: 0.9871 - val_categorical_accuracy: 0.5033 - val_loss: 0.9756\n",
      "Epoch 8/200\n",
      "\u001b[1m482/482\u001b[0m \u001b[32m━━━━━━━━━━━━━━━━━━━━\u001b[0m\u001b[37m\u001b[0m \u001b[1m2s\u001b[0m 4ms/step - categorical_accuracy: 0.4973 - loss: 0.9877 - val_categorical_accuracy: 0.5031 - val_loss: 0.9749\n",
      "Epoch 9/200\n",
      "\u001b[1m482/482\u001b[0m \u001b[32m━━━━━━━━━━━━━━━━━━━━\u001b[0m\u001b[37m\u001b[0m \u001b[1m2s\u001b[0m 4ms/step - categorical_accuracy: 0.5004 - loss: 0.9824 - val_categorical_accuracy: 0.5058 - val_loss: 0.9721\n",
      "Epoch 10/200\n",
      "\u001b[1m482/482\u001b[0m \u001b[32m━━━━━━━━━━━━━━━━━━━━\u001b[0m\u001b[37m\u001b[0m \u001b[1m2s\u001b[0m 3ms/step - categorical_accuracy: 0.5002 - loss: 0.9834 - val_categorical_accuracy: 0.5051 - val_loss: 0.9727\n",
      "Epoch 11/200\n",
      "\u001b[1m482/482\u001b[0m \u001b[32m━━━━━━━━━━━━━━━━━━━━\u001b[0m\u001b[37m\u001b[0m \u001b[1m3s\u001b[0m 5ms/step - categorical_accuracy: 0.5030 - loss: 0.9787 - val_categorical_accuracy: 0.5077 - val_loss: 0.9714\n",
      "Epoch 12/200\n",
      "\u001b[1m482/482\u001b[0m \u001b[32m━━━━━━━━━━━━━━━━━━━━\u001b[0m\u001b[37m\u001b[0m \u001b[1m2s\u001b[0m 4ms/step - categorical_accuracy: 0.5054 - loss: 0.9786 - val_categorical_accuracy: 0.5066 - val_loss: 0.9730\n",
      "Epoch 13/200\n",
      "\u001b[1m482/482\u001b[0m \u001b[32m━━━━━━━━━━━━━━━━━━━━\u001b[0m\u001b[37m\u001b[0m \u001b[1m2s\u001b[0m 3ms/step - categorical_accuracy: 0.5080 - loss: 0.9779 - val_categorical_accuracy: 0.5086 - val_loss: 0.9709\n",
      "Epoch 14/200\n",
      "\u001b[1m482/482\u001b[0m \u001b[32m━━━━━━━━━━━━━━━━━━━━\u001b[0m\u001b[37m\u001b[0m \u001b[1m2s\u001b[0m 4ms/step - categorical_accuracy: 0.5072 - loss: 0.9774 - val_categorical_accuracy: 0.5078 - val_loss: 0.9720\n",
      "Epoch 15/200\n",
      "\u001b[1m482/482\u001b[0m \u001b[32m━━━━━━━━━━━━━━━━━━━━\u001b[0m\u001b[37m\u001b[0m \u001b[1m2s\u001b[0m 4ms/step - categorical_accuracy: 0.5113 - loss: 0.9754 - val_categorical_accuracy: 0.5028 - val_loss: 0.9738\n",
      "Epoch 16/200\n",
      "\u001b[1m482/482\u001b[0m \u001b[32m━━━━━━━━━━━━━━━━━━━━\u001b[0m\u001b[37m\u001b[0m \u001b[1m2s\u001b[0m 4ms/step - categorical_accuracy: 0.5082 - loss: 0.9768 - val_categorical_accuracy: 0.5043 - val_loss: 0.9729\n",
      "Epoch 17/200\n",
      "\u001b[1m482/482\u001b[0m \u001b[32m━━━━━━━━━━━━━━━━━━━━\u001b[0m\u001b[37m\u001b[0m \u001b[1m2s\u001b[0m 5ms/step - categorical_accuracy: 0.5104 - loss: 0.9737 - val_categorical_accuracy: 0.5071 - val_loss: 0.9694\n",
      "Epoch 18/200\n",
      "\u001b[1m482/482\u001b[0m \u001b[32m━━━━━━━━━━━━━━━━━━━━\u001b[0m\u001b[37m\u001b[0m \u001b[1m2s\u001b[0m 4ms/step - categorical_accuracy: 0.5093 - loss: 0.9759 - val_categorical_accuracy: 0.5054 - val_loss: 0.9707\n",
      "Epoch 19/200\n",
      "\u001b[1m482/482\u001b[0m \u001b[32m━━━━━━━━━━━━━━━━━━━━\u001b[0m\u001b[37m\u001b[0m \u001b[1m2s\u001b[0m 4ms/step - categorical_accuracy: 0.5111 - loss: 0.9752 - val_categorical_accuracy: 0.4997 - val_loss: 0.9752\n",
      "Epoch 20/200\n",
      "\u001b[1m482/482\u001b[0m \u001b[32m━━━━━━━━━━━━━━━━━━━━\u001b[0m\u001b[37m\u001b[0m \u001b[1m2s\u001b[0m 4ms/step - categorical_accuracy: 0.5102 - loss: 0.9757 - val_categorical_accuracy: 0.5068 - val_loss: 0.9695\n",
      "Epoch 21/200\n",
      "\u001b[1m482/482\u001b[0m \u001b[32m━━━━━━━━━━━━━━━━━━━━\u001b[0m\u001b[37m\u001b[0m \u001b[1m2s\u001b[0m 5ms/step - categorical_accuracy: 0.5118 - loss: 0.9746 - val_categorical_accuracy: 0.5030 - val_loss: 0.9713\n",
      "Epoch 22/200\n",
      "\u001b[1m482/482\u001b[0m \u001b[32m━━━━━━━━━━━━━━━━━━━━\u001b[0m\u001b[37m\u001b[0m \u001b[1m2s\u001b[0m 4ms/step - categorical_accuracy: 0.5134 - loss: 0.9718 - val_categorical_accuracy: 0.5012 - val_loss: 0.9730\n",
      "Epoch 23/200\n",
      "\u001b[1m482/482\u001b[0m \u001b[32m━━━━━━━━━━━━━━━━━━━━\u001b[0m\u001b[37m\u001b[0m \u001b[1m2s\u001b[0m 3ms/step - categorical_accuracy: 0.5102 - loss: 0.9741 - val_categorical_accuracy: 0.5026 - val_loss: 0.9718\n",
      "Epoch 24/200\n",
      "\u001b[1m482/482\u001b[0m \u001b[32m━━━━━━━━━━━━━━━━━━━━\u001b[0m\u001b[37m\u001b[0m \u001b[1m2s\u001b[0m 4ms/step - categorical_accuracy: 0.5096 - loss: 0.9764 - val_categorical_accuracy: 0.5015 - val_loss: 0.9725\n",
      "Epoch 25/200\n",
      "\u001b[1m482/482\u001b[0m \u001b[32m━━━━━━━━━━━━━━━━━━━━\u001b[0m\u001b[37m\u001b[0m \u001b[1m2s\u001b[0m 4ms/step - categorical_accuracy: 0.5111 - loss: 0.9742 - val_categorical_accuracy: 0.4982 - val_loss: 0.9745\n",
      "Epoch 26/200\n",
      "\u001b[1m482/482\u001b[0m \u001b[32m━━━━━━━━━━━━━━━━━━━━\u001b[0m\u001b[37m\u001b[0m \u001b[1m2s\u001b[0m 4ms/step - categorical_accuracy: 0.5130 - loss: 0.9714 - val_categorical_accuracy: 0.4952 - val_loss: 0.9765\n",
      "Epoch 27/200\n",
      "\u001b[1m482/482\u001b[0m \u001b[32m━━━━━━━━━━━━━━━━━━━━\u001b[0m\u001b[37m\u001b[0m \u001b[1m2s\u001b[0m 4ms/step - categorical_accuracy: 0.5130 - loss: 0.9734 - val_categorical_accuracy: 0.5025 - val_loss: 0.9731\n",
      "Epoch 28/200\n",
      "\u001b[1m482/482\u001b[0m \u001b[32m━━━━━━━━━━━━━━━━━━━━\u001b[0m\u001b[37m\u001b[0m \u001b[1m2s\u001b[0m 3ms/step - categorical_accuracy: 0.5123 - loss: 0.9722 - val_categorical_accuracy: 0.5071 - val_loss: 0.9706\n",
      "Epoch 29/200\n",
      "\u001b[1m482/482\u001b[0m \u001b[32m━━━━━━━━━━━━━━━━━━━━\u001b[0m\u001b[37m\u001b[0m \u001b[1m2s\u001b[0m 4ms/step - categorical_accuracy: 0.5138 - loss: 0.9713 - val_categorical_accuracy: 0.5013 - val_loss: 0.9722\n",
      "Epoch 30/200\n",
      "\u001b[1m482/482\u001b[0m \u001b[32m━━━━━━━━━━━━━━━━━━━━\u001b[0m\u001b[37m\u001b[0m \u001b[1m2s\u001b[0m 4ms/step - categorical_accuracy: 0.5123 - loss: 0.9724 - val_categorical_accuracy: 0.5013 - val_loss: 0.9747\n",
      "Epoch 31/200\n",
      "\u001b[1m482/482\u001b[0m \u001b[32m━━━━━━━━━━━━━━━━━━━━\u001b[0m\u001b[37m\u001b[0m \u001b[1m2s\u001b[0m 4ms/step - categorical_accuracy: 0.5150 - loss: 0.9695 - val_categorical_accuracy: 0.4960 - val_loss: 0.9781\n",
      "Epoch 32/200\n",
      "\u001b[1m482/482\u001b[0m \u001b[32m━━━━━━━━━━━━━━━━━━━━\u001b[0m\u001b[37m\u001b[0m \u001b[1m2s\u001b[0m 4ms/step - categorical_accuracy: 0.5125 - loss: 0.9715 - val_categorical_accuracy: 0.4997 - val_loss: 0.9755\n",
      "Epoch 32: early stopping\n"
     ]
    },
    {
     "data": {
      "text/plain": [
       "<keras.src.callbacks.history.History at 0x1aca0be2e60>"
      ]
     },
     "execution_count": 84,
     "metadata": {},
     "output_type": "execute_result"
    }
   ],
   "source": [
    "#early_stop = EarlyStopping(monitor='val_loss', mode='min', verbose=1, patience=25)\n",
    "#model.fit(x=X_train, \n",
    "#          y=y_train, \n",
    "#          epochs=600,\n",
    "#          batch_size=50,\n",
    "#          validation_data=(X_test, y_test), verbose=1,\n",
    "#          callbacks=[early_stop]\n",
    "#          )\n",
    "model.fit(x=X_train, \n",
    "          y=y_train, \n",
    "          epochs=200,\n",
    "          batch_size=100,\n",
    "          validation_data=(X_test, y_test), verbose=1,\n",
    "          callbacks=[early_stop]\n",
    "          )"
   ]
  },
  {
   "cell_type": "code",
   "execution_count": 85,
   "id": "8a72158b",
   "metadata": {},
   "outputs": [
    {
     "data": {
      "text/plain": [
       "<Axes: >"
      ]
     },
     "execution_count": 85,
     "metadata": {},
     "output_type": "execute_result"
    },
    {
     "data": {
      "image/png": "[encoded data removed]",
      "text/plain": [
       "<Figure size 640x480 with 1 Axes>"
      ]
     },
     "metadata": {},
     "output_type": "display_data"
    }
   ],
   "source": [
    "model_loss = pd.DataFrame(model.history.history)\n",
    "model_loss.plot()"
   ]
  },
  {
   "cell_type": "code",
   "execution_count": 86,
   "id": "27acd32c",
   "metadata": {},
   "outputs": [
    {
     "name": "stdout",
     "output_type": "stream",
     "text": [
      "\u001b[1m1284/1284\u001b[0m \u001b[32m━━━━━━━━━━━━━━━━━━━━\u001b[0m\u001b[37m\u001b[0m \u001b[1m2s\u001b[0m 2ms/step\n"
     ]
    },
    {
     "data": {
      "text/plain": [
       "array([[0.18366215, 0.41170144, 0.40463644],\n",
       "       [0.45957652, 0.46494925, 0.07547425],\n",
       "       [0.10542608, 0.32704723, 0.5675267 ],\n",
       "       ...,\n",
       "       [0.13658768, 0.35338396, 0.5100284 ],\n",
       "       [0.38157764, 0.47328758, 0.14513476],\n",
       "       [0.07134698, 0.3416558 , 0.5869973 ]], dtype=float32)"
      ]
     },
     "execution_count": 86,
     "metadata": {},
     "output_type": "execute_result"
    }
   ],
   "source": [
    "prediccion = model.predict(X_test)\n",
    "prediccion"
   ]
  },
  {
   "cell_type": "code",
   "execution_count": 87,
   "id": "c9fe14dc",
   "metadata": {},
   "outputs": [
    {
     "data": {
      "text/plain": [
       "array([[0, 0, 1],\n",
       "       [0, 1, 0],\n",
       "       [0, 0, 1],\n",
       "       ...,\n",
       "       [0, 0, 1],\n",
       "       [0, 0, 1],\n",
       "       [0, 1, 0]], dtype=uint8)"
      ]
     },
     "execution_count": 87,
     "metadata": {},
     "output_type": "execute_result"
    }
   ],
   "source": [
    "y_test"
   ]
  },
  {
   "cell_type": "code",
   "execution_count": 88,
   "id": "8f133be1",
   "metadata": {},
   "outputs": [
    {
     "data": {
      "text/plain": [
       "array([1, 1, 2, ..., 2, 1, 2], dtype=int64)"
      ]
     },
     "execution_count": 88,
     "metadata": {},
     "output_type": "execute_result"
    }
   ],
   "source": [
    "prediccion_lab = np.argmax(prediccion, axis=1)\n",
    "prediccion_lab"
   ]
  },
  {
   "cell_type": "code",
   "execution_count": 89,
   "id": "f1cba521",
   "metadata": {},
   "outputs": [
    {
     "data": {
      "text/plain": [
       "array([1, 1, 2, ..., 2, 1, 2], dtype=int64)"
      ]
     },
     "execution_count": 89,
     "metadata": {},
     "output_type": "execute_result"
    }
   ],
   "source": [
    "prediccion_lab_real = prediccion_lab + 1\n",
    "prediccion_lab"
   ]
  },
  {
   "cell_type": "code",
   "execution_count": 90,
   "id": "7572b442",
   "metadata": {},
   "outputs": [
    {
     "data": {
      "text/html": [
       "<div>\n",
       "<style scoped>\n",
       "    .dataframe tbody tr th:only-of-type {\n",
       "        vertical-align: middle;\n",
       "    }\n",
       "\n",
       "    .dataframe tbody tr th {\n",
       "        vertical-align: top;\n",
       "    }\n",
       "\n",
       "    .dataframe thead th {\n",
       "        text-align: right;\n",
       "    }\n",
       "</style>\n",
       "<table border=\"1\" class=\"dataframe\">\n",
       "  <thead>\n",
       "    <tr style=\"text-align: right;\">\n",
       "      <th></th>\n",
       "      <th>Interest Rate 1</th>\n",
       "      <th>Interest Rate 2</th>\n",
       "      <th>Interest Rate 3</th>\n",
       "    </tr>\n",
       "  </thead>\n",
       "  <tbody>\n",
       "    <tr>\n",
       "      <th>0</th>\n",
       "      <td>0</td>\n",
       "      <td>0</td>\n",
       "      <td>1</td>\n",
       "    </tr>\n",
       "    <tr>\n",
       "      <th>1</th>\n",
       "      <td>0</td>\n",
       "      <td>1</td>\n",
       "      <td>0</td>\n",
       "    </tr>\n",
       "    <tr>\n",
       "      <th>2</th>\n",
       "      <td>0</td>\n",
       "      <td>0</td>\n",
       "      <td>1</td>\n",
       "    </tr>\n",
       "    <tr>\n",
       "      <th>3</th>\n",
       "      <td>0</td>\n",
       "      <td>0</td>\n",
       "      <td>1</td>\n",
       "    </tr>\n",
       "    <tr>\n",
       "      <th>4</th>\n",
       "      <td>1</td>\n",
       "      <td>0</td>\n",
       "      <td>0</td>\n",
       "    </tr>\n",
       "    <tr>\n",
       "      <th>...</th>\n",
       "      <td>...</td>\n",
       "      <td>...</td>\n",
       "      <td>...</td>\n",
       "    </tr>\n",
       "    <tr>\n",
       "      <th>41060</th>\n",
       "      <td>0</td>\n",
       "      <td>1</td>\n",
       "      <td>0</td>\n",
       "    </tr>\n",
       "    <tr>\n",
       "      <th>41061</th>\n",
       "      <td>0</td>\n",
       "      <td>1</td>\n",
       "      <td>0</td>\n",
       "    </tr>\n",
       "    <tr>\n",
       "      <th>41062</th>\n",
       "      <td>0</td>\n",
       "      <td>0</td>\n",
       "      <td>1</td>\n",
       "    </tr>\n",
       "    <tr>\n",
       "      <th>41063</th>\n",
       "      <td>0</td>\n",
       "      <td>0</td>\n",
       "      <td>1</td>\n",
       "    </tr>\n",
       "    <tr>\n",
       "      <th>41064</th>\n",
       "      <td>0</td>\n",
       "      <td>1</td>\n",
       "      <td>0</td>\n",
       "    </tr>\n",
       "  </tbody>\n",
       "</table>\n",
       "<p>41065 rows × 3 columns</p>\n",
       "</div>"
      ],
      "text/plain": [
       "       Interest Rate 1  Interest Rate 2  Interest Rate 3\n",
       "0                    0                0                1\n",
       "1                    0                1                0\n",
       "2                    0                0                1\n",
       "3                    0                0                1\n",
       "4                    1                0                0\n",
       "...                ...              ...              ...\n",
       "41060                0                1                0\n",
       "41061                0                1                0\n",
       "41062                0                0                1\n",
       "41063                0                0                1\n",
       "41064                0                1                0\n",
       "\n",
       "[41065 rows x 3 columns]"
      ]
     },
     "execution_count": 90,
     "metadata": {},
     "output_type": "execute_result"
    }
   ],
   "source": [
    "df_test_lab = pd.DataFrame(y_test, columns = ['Interest Rate 1','Interest Rate 2','Interest Rate 3'])\n",
    "df_test_lab"
   ]
  },
  {
   "cell_type": "code",
   "execution_count": 91,
   "id": "86858120",
   "metadata": {},
   "outputs": [
    {
     "data": {
      "text/plain": [
       "0        3\n",
       "1        2\n",
       "2        3\n",
       "3        3\n",
       "4        1\n",
       "        ..\n",
       "41060    2\n",
       "41061    2\n",
       "41062    3\n",
       "41063    3\n",
       "41064    2\n",
       "Name: Clase Real, Length: 41065, dtype: int32"
      ]
     },
     "execution_count": 91,
     "metadata": {},
     "output_type": "execute_result"
    }
   ],
   "source": [
    "df_test_lab[\"Clase Real\"]=np.where(df_test_lab[\"Interest Rate 1\"]==1,1,np.where(df_test_lab[\"Interest Rate 2\"]==1,2,3))\n",
    "df_test_lab[\"Clase Real\"]"
   ]
  },
  {
   "cell_type": "code",
   "execution_count": 92,
   "id": "ed07291c",
   "metadata": {},
   "outputs": [
    {
     "data": {
      "text/plain": [
       "array([3, 2, 3, ..., 3, 3, 2])"
      ]
     },
     "execution_count": 92,
     "metadata": {},
     "output_type": "execute_result"
    }
   ],
   "source": [
    "clases=[1, 2, 3]\n",
    "array_clase_real = df_test_lab[\"Clase Real\"].to_numpy()\n",
    "array_clase_real"
   ]
  },
  {
   "cell_type": "code",
   "execution_count": 94,
   "id": "9a6dd942",
   "metadata": {},
   "outputs": [
    {
     "data": {
      "text/plain": [
       "array([[  148,  5954,  2474],\n",
       "       [  120, 10252,  7192],\n",
       "       [   20,  4786, 10119]], dtype=int64)"
      ]
     },
     "execution_count": 94,
     "metadata": {},
     "output_type": "execute_result"
    }
   ],
   "source": [
    "cnf_matrix = confusion_matrix(array_clase_real, prediccion_lab_real, labels=clases)\n",
    "cnf_matrix"
   ]
  },
  {
   "cell_type": "code",
   "execution_count": 95,
   "id": "146238ae",
   "metadata": {},
   "outputs": [],
   "source": [
    "def plot_confusion_matrix(cm, classes,\n",
    "                          normalize=False,\n",
    "                          title='Confusion matrix',\n",
    "                          cmap=plt.cm.Blues):\n",
    "    \"\"\"\n",
    "    This function prints and plots the confusion matrix.\n",
    "    Normalization can be applied by setting `normalize=True`.\n",
    "    Source: https://datascience.stackexchange.com/questions/40067/confusion-matrix-three-classes-python/40068\n",
    "    \"\"\"\n",
    "    import itertools\n",
    "    if normalize:\n",
    "        cm = cm.astype('float') / cm.sum(axis=1)[:, np.newaxis]\n",
    "        print(\"Normalized confusion matrix\")\n",
    "    else:\n",
    "        print('Confusion matrix sin normalizar')\n",
    "\n",
    "    print(cm)\n",
    "\n",
    "    plt.imshow(cm, interpolation='nearest', cmap=cmap)\n",
    "    plt.title(title)\n",
    "    plt.colorbar()\n",
    "    tick_marks = np.arange(len(classes))\n",
    "    plt.xticks(tick_marks, classes, rotation=45)\n",
    "    plt.yticks(tick_marks, classes)\n",
    "\n",
    "    fmt = '.2f' if normalize else 'd'\n",
    "    thresh = cm.max() / 2.\n",
    "    for i, j in itertools.product(range(cm.shape[0]), range(cm.shape[1])):\n",
    "        plt.text(j, i, format(cm[i, j], fmt),\n",
    "                 horizontalalignment=\"center\",\n",
    "                 color=\"white\" if cm[i, j] > thresh else \"black\")\n",
    "\n",
    "    plt.ylabel('True label')\n",
    "    plt.xlabel('Predicted label')\n",
    "    plt.tight_layout()"
   ]
  },
  {
   "cell_type": "code",
   "execution_count": 96,
   "id": "72d39cb2",
   "metadata": {},
   "outputs": [
    {
     "name": "stdout",
     "output_type": "stream",
     "text": [
      "Confusion matrix sin normalizar\n",
      "[[  148  5954  2474]\n",
      " [  120 10252  7192]\n",
      " [   20  4786 10119]]\n"
     ]
    },
    {
     "data": {
      "image/png": "[encoded data removed]",
      "text/plain": [
       "<Figure size 640x480 with 2 Axes>"
      ]
     },
     "metadata": {},
     "output_type": "display_data"
    }
   ],
   "source": [
    "np.set_printoptions(precision=2)\n",
    "\n",
    "# Plot non-normalized confusion matrix\n",
    "plt.figure()\n",
    "plot_confusion_matrix(cnf_matrix, classes=clases, title='Confusion matrix sin normalización')"
   ]
  },
  {
   "cell_type": "code",
   "execution_count": 99,
   "id": "8e8bfccd",
   "metadata": {},
   "outputs": [
    {
     "name": "stdout",
     "output_type": "stream",
     "text": [
      "Confusion Matrix:\n",
      " [[  148  5954  2474]\n",
      " [  120 10252  7192]\n",
      " [   20  4786 10119]]\n",
      "\n",
      "Classification Report:\n",
      "               precision    recall  f1-score   support\n",
      "\n",
      "     Clase 1       0.51      0.02      0.03      8576\n",
      "     Clase 2       0.49      0.58      0.53     17564\n",
      "     Clase 3       0.51      0.68      0.58     14925\n",
      "\n",
      "    accuracy                           0.50     41065\n",
      "   macro avg       0.50      0.43      0.38     41065\n",
      "weighted avg       0.50      0.50      0.45     41065\n",
      "\n",
      "\n",
      "Accuracy:\n",
      " 0.49967125289175696\n"
     ]
    }
   ],
   "source": [
    "clases = ['Clase 1', 'Clase 2', 'Clase 3']\n",
    "\n",
    "# Calcular y mostrar la matriz de confusión\n",
    "cnf_matrix = confusion_matrix(array_clase_real, prediccion_lab_real)\n",
    "print(\"Confusion Matrix:\\n\", cnf_matrix)\n",
    "\n",
    "# Calcular y mostrar el reporte de clasificación\n",
    "report = classification_report(array_clase_real, prediccion_lab_real, target_names=clases)\n",
    "print(\"\\nClassification Report:\\n\", report)\n",
    "\n",
    "# Calcular y mostrar la exactitud\n",
    "accuracy = accuracy_score(array_clase_real, prediccion_lab_real)\n",
    "print(\"\\nAccuracy:\\n\", accuracy)"
   ]
  }
 ],
 "metadata": {
  "kernelspec": {
   "display_name": "Python 3 (ipykernel)",
   "language": "python",
   "name": "python3"
  },
  "language_info": {
   "codemirror_mode": {
    "name": "ipython",
    "version": 3
   },
   "file_extension": ".py",
   "mimetype": "text/x-python",
   "name": "python",
   "nbconvert_exporter": "python",
   "pygments_lexer": "ipython3",
   "version": "3.10.4"
  }
 },
 "nbformat": 4,
 "nbformat_minor": 5
}
